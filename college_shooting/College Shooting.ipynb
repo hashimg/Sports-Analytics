{
 "cells": [
  {
   "cell_type": "code",
   "execution_count": 2,
   "metadata": {
    "collapsed": true
   },
   "outputs": [],
   "source": [
    "import numpy as np\n",
    "import pandas as pd\n",
    "from pandas import Series, DataFrame"
   ]
  },
  {
   "cell_type": "code",
   "execution_count": 3,
   "metadata": {},
   "outputs": [
    {
     "name": "stderr",
     "output_type": "stream",
     "text": [
      "C:\\Users\\hashi\\Anaconda3\\lib\\site-packages\\statsmodels\\compat\\pandas.py:56: FutureWarning: The pandas.core.datetools module is deprecated and will be removed in a future version. Please use the pandas.tseries module instead.\n",
      "  from pandas.core import datetools\n"
     ]
    }
   ],
   "source": [
    "import statsmodels.api as sm"
   ]
  },
  {
   "cell_type": "code",
   "execution_count": 90,
   "metadata": {
    "collapsed": true
   },
   "outputs": [],
   "source": [
    "import seaborn as sns\n",
    "import matplotlib.pyplot as plt"
   ]
  },
  {
   "cell_type": "markdown",
   "metadata": {},
   "source": [
    "## Data Collection\n",
    "I obtained the data from [Basketball-Reference](https://www.basketball-reference.com/play-index/draft_finder.cgi?request=1&year_min=&year_max=2017&round_min=&round_max=&pick_overall_min=1&pick_overall_max=10&franch_id=&college_id=0&is_active=&is_hof=&pos_is_g=Y&pos_is_gf=Y&pos_is_f=Y&pos_is_fg=Y&pos_is_fc=Y&pos_is_c=Y&pos_is_cf=Y&c1stat=g&c1comp=gt&c1val=100&c2stat=&c2comp=&c2val=&c3stat=&c3comp=&c3val=&c4stat=&c4comp=&c4val=&order_by=ws&order_by_asc=&offset=0). This dataset contains all the players selected in the NBA Draft to make at least **100 NBA** appearances. This was an arbitrary cut-off because I wanted enough of a sample size of games to play in the NBA to compare to college"
   ]
  },
  {
   "cell_type": "code",
   "execution_count": 5,
   "metadata": {
    "collapsed": true
   },
   "outputs": [],
   "source": [
    "draft = pd.read_table('nba_draft.txt', sep = ',', header = 1)"
   ]
  },
  {
   "cell_type": "code",
   "execution_count": 6,
   "metadata": {},
   "outputs": [
    {
     "data": {
      "text/html": [
       "<div>\n",
       "<style>\n",
       "    .dataframe thead tr:only-child th {\n",
       "        text-align: right;\n",
       "    }\n",
       "\n",
       "    .dataframe thead th {\n",
       "        text-align: left;\n",
       "    }\n",
       "\n",
       "    .dataframe tbody tr th {\n",
       "        vertical-align: top;\n",
       "    }\n",
       "</style>\n",
       "<table border=\"1\" class=\"dataframe\">\n",
       "  <thead>\n",
       "    <tr style=\"text-align: right;\">\n",
       "      <th></th>\n",
       "      <th>Rk</th>\n",
       "      <th>Year</th>\n",
       "      <th>Lg</th>\n",
       "      <th>Rd</th>\n",
       "      <th>Pk</th>\n",
       "      <th>Tm</th>\n",
       "      <th>Player</th>\n",
       "      <th>Age</th>\n",
       "      <th>Pos</th>\n",
       "      <th>Born</th>\n",
       "      <th>...</th>\n",
       "      <th>TRB</th>\n",
       "      <th>AST</th>\n",
       "      <th>STL</th>\n",
       "      <th>BLK</th>\n",
       "      <th>FG%</th>\n",
       "      <th>2P%</th>\n",
       "      <th>3P%</th>\n",
       "      <th>FT%</th>\n",
       "      <th>WS</th>\n",
       "      <th>WS/48</th>\n",
       "    </tr>\n",
       "  </thead>\n",
       "  <tbody>\n",
       "    <tr>\n",
       "      <th>0</th>\n",
       "      <td>1</td>\n",
       "      <td>1969</td>\n",
       "      <td>NBA</td>\n",
       "      <td>1</td>\n",
       "      <td>1</td>\n",
       "      <td>MIL</td>\n",
       "      <td>Kareem Abdul-Jabbar\\abdulka01</td>\n",
       "      <td>21.362</td>\n",
       "      <td>C</td>\n",
       "      <td>us</td>\n",
       "      <td>...</td>\n",
       "      <td>11.2</td>\n",
       "      <td>3.6</td>\n",
       "      <td>0.7</td>\n",
       "      <td>2.0</td>\n",
       "      <td>0.559</td>\n",
       "      <td>0.560</td>\n",
       "      <td>0.056</td>\n",
       "      <td>0.721</td>\n",
       "      <td>273.4</td>\n",
       "      <td>.228</td>\n",
       "    </tr>\n",
       "    <tr>\n",
       "      <th>1</th>\n",
       "      <td>2</td>\n",
       "      <td>2003</td>\n",
       "      <td>NBA</td>\n",
       "      <td>1</td>\n",
       "      <td>1</td>\n",
       "      <td>CLE</td>\n",
       "      <td>LeBron James\\jamesle01</td>\n",
       "      <td>18.182</td>\n",
       "      <td>F-G</td>\n",
       "      <td>us</td>\n",
       "      <td>...</td>\n",
       "      <td>7.4</td>\n",
       "      <td>7.2</td>\n",
       "      <td>1.6</td>\n",
       "      <td>0.8</td>\n",
       "      <td>0.504</td>\n",
       "      <td>0.547</td>\n",
       "      <td>0.344</td>\n",
       "      <td>0.739</td>\n",
       "      <td>219.4</td>\n",
       "      <td>.238</td>\n",
       "    </tr>\n",
       "    <tr>\n",
       "      <th>2</th>\n",
       "      <td>3</td>\n",
       "      <td>1984</td>\n",
       "      <td>NBA</td>\n",
       "      <td>1</td>\n",
       "      <td>3</td>\n",
       "      <td>CHI</td>\n",
       "      <td>Michael Jordan\\jordami01</td>\n",
       "      <td>21.128</td>\n",
       "      <td>G-F</td>\n",
       "      <td>us</td>\n",
       "      <td>...</td>\n",
       "      <td>6.2</td>\n",
       "      <td>5.3</td>\n",
       "      <td>2.3</td>\n",
       "      <td>0.8</td>\n",
       "      <td>0.497</td>\n",
       "      <td>0.510</td>\n",
       "      <td>0.327</td>\n",
       "      <td>0.835</td>\n",
       "      <td>214.0</td>\n",
       "      <td>.250</td>\n",
       "    </tr>\n",
       "    <tr>\n",
       "      <th>3</th>\n",
       "      <td>4</td>\n",
       "      <td>1997</td>\n",
       "      <td>NBA</td>\n",
       "      <td>1</td>\n",
       "      <td>1</td>\n",
       "      <td>SAS</td>\n",
       "      <td>Tim Duncan\\duncati01</td>\n",
       "      <td>21.066</td>\n",
       "      <td>F-C</td>\n",
       "      <td>vi</td>\n",
       "      <td>...</td>\n",
       "      <td>10.8</td>\n",
       "      <td>3.0</td>\n",
       "      <td>0.7</td>\n",
       "      <td>2.2</td>\n",
       "      <td>0.506</td>\n",
       "      <td>0.509</td>\n",
       "      <td>0.179</td>\n",
       "      <td>0.696</td>\n",
       "      <td>206.4</td>\n",
       "      <td>.209</td>\n",
       "    </tr>\n",
       "    <tr>\n",
       "      <th>4</th>\n",
       "      <td>5</td>\n",
       "      <td>1998</td>\n",
       "      <td>NBA</td>\n",
       "      <td>1</td>\n",
       "      <td>9</td>\n",
       "      <td>MIL</td>\n",
       "      <td>Dirk Nowitzki\\nowitdi01</td>\n",
       "      <td>20.010</td>\n",
       "      <td>F</td>\n",
       "      <td>de</td>\n",
       "      <td>...</td>\n",
       "      <td>7.7</td>\n",
       "      <td>2.5</td>\n",
       "      <td>0.8</td>\n",
       "      <td>0.9</td>\n",
       "      <td>0.472</td>\n",
       "      <td>0.497</td>\n",
       "      <td>0.383</td>\n",
       "      <td>0.879</td>\n",
       "      <td>206.1</td>\n",
       "      <td>.196</td>\n",
       "    </tr>\n",
       "  </tbody>\n",
       "</table>\n",
       "<p>5 rows × 26 columns</p>\n",
       "</div>"
      ],
      "text/plain": [
       "   Rk  Year   Lg  Rd  Pk   Tm                         Player     Age  Pos  \\\n",
       "0   1  1969  NBA   1   1  MIL  Kareem Abdul-Jabbar\\abdulka01  21.362    C   \n",
       "1   2  2003  NBA   1   1  CLE         LeBron James\\jamesle01  18.182  F-G   \n",
       "2   3  1984  NBA   1   3  CHI       Michael Jordan\\jordami01  21.128  G-F   \n",
       "3   4  1997  NBA   1   1  SAS           Tim Duncan\\duncati01  21.066  F-C   \n",
       "4   5  1998  NBA   1   9  MIL        Dirk Nowitzki\\nowitdi01  20.010    F   \n",
       "\n",
       "  Born  ...     TRB  AST  STL  BLK    FG%    2P%    3P%    FT%     WS  WS/48  \n",
       "0   us  ...    11.2  3.6  0.7  2.0  0.559  0.560  0.056  0.721  273.4   .228  \n",
       "1   us  ...     7.4  7.2  1.6  0.8  0.504  0.547  0.344  0.739  219.4   .238  \n",
       "2   us  ...     6.2  5.3  2.3  0.8  0.497  0.510  0.327  0.835  214.0   .250  \n",
       "3   vi  ...    10.8  3.0  0.7  2.2  0.506  0.509  0.179  0.696  206.4   .209  \n",
       "4   de  ...     7.7  2.5  0.8  0.9  0.472  0.497  0.383  0.879  206.1   .196  \n",
       "\n",
       "[5 rows x 26 columns]"
      ]
     },
     "execution_count": 6,
     "metadata": {},
     "output_type": "execute_result"
    }
   ],
   "source": [
    "draft.head(5)"
   ]
  },
  {
   "cell_type": "code",
   "execution_count": 7,
   "metadata": {},
   "outputs": [
    {
     "data": {
      "text/plain": [
       "(603, 26)"
      ]
     },
     "execution_count": 7,
     "metadata": {},
     "output_type": "execute_result"
    }
   ],
   "source": [
    "# Looking at our data\n",
    "np.shape(draft)"
   ]
  },
  {
   "cell_type": "code",
   "execution_count": 8,
   "metadata": {},
   "outputs": [
    {
     "data": {
      "text/plain": [
       "['Rk',\n",
       " 'Year',\n",
       " 'Lg',\n",
       " 'Rd',\n",
       " 'Pk',\n",
       " 'Tm',\n",
       " 'Player',\n",
       " 'Age',\n",
       " 'Pos',\n",
       " 'Born',\n",
       " 'College',\n",
       " 'From',\n",
       " 'To',\n",
       " 'G',\n",
       " 'MP',\n",
       " 'PTS',\n",
       " 'TRB',\n",
       " 'AST',\n",
       " 'STL',\n",
       " 'BLK',\n",
       " 'FG%',\n",
       " '2P%',\n",
       " '3P%',\n",
       " 'FT%',\n",
       " 'WS',\n",
       " 'WS/48']"
      ]
     },
     "execution_count": 8,
     "metadata": {},
     "output_type": "execute_result"
    }
   ],
   "source": [
    "# Exploring to see columns/variable names\n",
    "list(draft)"
   ]
  },
  {
   "cell_type": "markdown",
   "metadata": {},
   "source": [
    "## Cleaning up the `Players` column\n",
    "\n",
    "Stripping away the `'\\'` and the player id that comes after"
   ]
  },
  {
   "cell_type": "code",
   "execution_count": 9,
   "metadata": {
    "collapsed": true
   },
   "outputs": [],
   "source": [
    "draft['Player'] = draft['Player'].map(lambda x:  x.lstrip('\\\\').rstrip('abcdefghijklmnopqrstuvwxyz0123456789'))"
   ]
  },
  {
   "cell_type": "code",
   "execution_count": 10,
   "metadata": {
    "collapsed": true
   },
   "outputs": [],
   "source": [
    "draft['Player'] = draft['Player'].str.strip(\"\\\\\")"
   ]
  },
  {
   "cell_type": "code",
   "execution_count": 11,
   "metadata": {},
   "outputs": [
    {
     "data": {
      "text/plain": [
       "0    Kareem Abdul-Jabbar\n",
       "1           LeBron James\n",
       "2         Michael Jordan\n",
       "3             Tim Duncan\n",
       "4          Dirk Nowitzki\n",
       "Name: Player, dtype: object"
      ]
     },
     "execution_count": 11,
     "metadata": {},
     "output_type": "execute_result"
    }
   ],
   "source": [
    "draft['Player'].head(5)"
   ]
  },
  {
   "cell_type": "code",
   "execution_count": 12,
   "metadata": {},
   "outputs": [
    {
     "data": {
      "text/plain": [
       "438"
      ]
     },
     "execution_count": 12,
     "metadata": {},
     "output_type": "execute_result"
    }
   ],
   "source": [
    "# Check for missing data. We have 438 data points missing\n",
    "draft.isnull().sum().sum()"
   ]
  },
  {
   "cell_type": "code",
   "execution_count": 13,
   "metadata": {},
   "outputs": [
    {
     "data": {
      "text/plain": [
       "(399, 26)"
      ]
     },
     "execution_count": 13,
     "metadata": {},
     "output_type": "execute_result"
    }
   ],
   "source": [
    "# We can drop those rows/observations that contain missing data\n",
    "draft = draft.dropna()\n",
    "\n",
    "# We are now left with 399 players. Still a decent amount\n",
    "np.shape(draft)"
   ]
  },
  {
   "cell_type": "code",
   "execution_count": 14,
   "metadata": {},
   "outputs": [
    {
     "data": {
      "text/html": [
       "<div>\n",
       "<style>\n",
       "    .dataframe thead tr:only-child th {\n",
       "        text-align: right;\n",
       "    }\n",
       "\n",
       "    .dataframe thead th {\n",
       "        text-align: left;\n",
       "    }\n",
       "\n",
       "    .dataframe tbody tr th {\n",
       "        vertical-align: top;\n",
       "    }\n",
       "</style>\n",
       "<table border=\"1\" class=\"dataframe\">\n",
       "  <thead>\n",
       "    <tr style=\"text-align: right;\">\n",
       "      <th></th>\n",
       "      <th>Rk</th>\n",
       "      <th>Year</th>\n",
       "      <th>Rd</th>\n",
       "      <th>Pk</th>\n",
       "      <th>Age</th>\n",
       "      <th>From</th>\n",
       "      <th>To</th>\n",
       "      <th>G</th>\n",
       "      <th>MP</th>\n",
       "      <th>PTS</th>\n",
       "      <th>TRB</th>\n",
       "      <th>AST</th>\n",
       "      <th>STL</th>\n",
       "      <th>BLK</th>\n",
       "      <th>FG%</th>\n",
       "      <th>2P%</th>\n",
       "      <th>3P%</th>\n",
       "      <th>FT%</th>\n",
       "      <th>WS</th>\n",
       "    </tr>\n",
       "  </thead>\n",
       "  <tbody>\n",
       "    <tr>\n",
       "      <th>count</th>\n",
       "      <td>399.000000</td>\n",
       "      <td>399.000000</td>\n",
       "      <td>399.0</td>\n",
       "      <td>399.000000</td>\n",
       "      <td>399.000000</td>\n",
       "      <td>399.000000</td>\n",
       "      <td>399.000000</td>\n",
       "      <td>399.000000</td>\n",
       "      <td>399.000000</td>\n",
       "      <td>399.000000</td>\n",
       "      <td>399.000000</td>\n",
       "      <td>399.000000</td>\n",
       "      <td>399.000000</td>\n",
       "      <td>399.000000</td>\n",
       "      <td>399.000000</td>\n",
       "      <td>399.000000</td>\n",
       "      <td>399.000000</td>\n",
       "      <td>399.000000</td>\n",
       "      <td>399.000000</td>\n",
       "    </tr>\n",
       "    <tr>\n",
       "      <th>mean</th>\n",
       "      <td>272.398496</td>\n",
       "      <td>1992.676692</td>\n",
       "      <td>1.0</td>\n",
       "      <td>5.438596</td>\n",
       "      <td>21.159877</td>\n",
       "      <td>1993.716792</td>\n",
       "      <td>2003.370927</td>\n",
       "      <td>678.721805</td>\n",
       "      <td>27.487469</td>\n",
       "      <td>12.807268</td>\n",
       "      <td>5.195489</td>\n",
       "      <td>2.635589</td>\n",
       "      <td>0.904010</td>\n",
       "      <td>0.614536</td>\n",
       "      <td>0.464539</td>\n",
       "      <td>0.480376</td>\n",
       "      <td>0.251739</td>\n",
       "      <td>0.749815</td>\n",
       "      <td>47.242857</td>\n",
       "    </tr>\n",
       "    <tr>\n",
       "      <th>std</th>\n",
       "      <td>163.167621</td>\n",
       "      <td>13.173494</td>\n",
       "      <td>0.0</td>\n",
       "      <td>2.855061</td>\n",
       "      <td>1.181281</td>\n",
       "      <td>13.143105</td>\n",
       "      <td>12.311198</td>\n",
       "      <td>308.171541</td>\n",
       "      <td>6.264641</td>\n",
       "      <td>5.052764</td>\n",
       "      <td>2.435898</td>\n",
       "      <td>1.822952</td>\n",
       "      <td>0.410703</td>\n",
       "      <td>0.526379</td>\n",
       "      <td>0.040427</td>\n",
       "      <td>0.034495</td>\n",
       "      <td>0.125899</td>\n",
       "      <td>0.076866</td>\n",
       "      <td>40.657682</td>\n",
       "    </tr>\n",
       "    <tr>\n",
       "      <th>min</th>\n",
       "      <td>1.000000</td>\n",
       "      <td>1965.000000</td>\n",
       "      <td>1.0</td>\n",
       "      <td>1.000000</td>\n",
       "      <td>18.276000</td>\n",
       "      <td>1966.000000</td>\n",
       "      <td>1980.000000</td>\n",
       "      <td>103.000000</td>\n",
       "      <td>8.200000</td>\n",
       "      <td>2.800000</td>\n",
       "      <td>1.000000</td>\n",
       "      <td>0.300000</td>\n",
       "      <td>0.200000</td>\n",
       "      <td>0.000000</td>\n",
       "      <td>0.353000</td>\n",
       "      <td>0.377000</td>\n",
       "      <td>0.000000</td>\n",
       "      <td>0.421000</td>\n",
       "      <td>-2.700000</td>\n",
       "    </tr>\n",
       "    <tr>\n",
       "      <th>25%</th>\n",
       "      <td>135.000000</td>\n",
       "      <td>1982.000000</td>\n",
       "      <td>1.0</td>\n",
       "      <td>3.000000</td>\n",
       "      <td>20.242000</td>\n",
       "      <td>1983.000000</td>\n",
       "      <td>1993.000000</td>\n",
       "      <td>437.000000</td>\n",
       "      <td>22.750000</td>\n",
       "      <td>8.950000</td>\n",
       "      <td>3.300000</td>\n",
       "      <td>1.300000</td>\n",
       "      <td>0.600000</td>\n",
       "      <td>0.250000</td>\n",
       "      <td>0.438000</td>\n",
       "      <td>0.460500</td>\n",
       "      <td>0.167000</td>\n",
       "      <td>0.706500</td>\n",
       "      <td>17.350000</td>\n",
       "    </tr>\n",
       "    <tr>\n",
       "      <th>50%</th>\n",
       "      <td>263.000000</td>\n",
       "      <td>1992.000000</td>\n",
       "      <td>1.0</td>\n",
       "      <td>5.000000</td>\n",
       "      <td>21.251000</td>\n",
       "      <td>1993.000000</td>\n",
       "      <td>2005.000000</td>\n",
       "      <td>687.000000</td>\n",
       "      <td>28.400000</td>\n",
       "      <td>12.300000</td>\n",
       "      <td>4.700000</td>\n",
       "      <td>2.200000</td>\n",
       "      <td>0.800000</td>\n",
       "      <td>0.500000</td>\n",
       "      <td>0.462000</td>\n",
       "      <td>0.479000</td>\n",
       "      <td>0.295000</td>\n",
       "      <td>0.760000</td>\n",
       "      <td>37.400000</td>\n",
       "    </tr>\n",
       "    <tr>\n",
       "      <th>75%</th>\n",
       "      <td>401.500000</td>\n",
       "      <td>2004.000000</td>\n",
       "      <td>1.0</td>\n",
       "      <td>8.000000</td>\n",
       "      <td>22.109500</td>\n",
       "      <td>2005.000000</td>\n",
       "      <td>2016.500000</td>\n",
       "      <td>905.500000</td>\n",
       "      <td>32.550000</td>\n",
       "      <td>16.100000</td>\n",
       "      <td>6.600000</td>\n",
       "      <td>3.400000</td>\n",
       "      <td>1.100000</td>\n",
       "      <td>0.800000</td>\n",
       "      <td>0.490000</td>\n",
       "      <td>0.503000</td>\n",
       "      <td>0.346000</td>\n",
       "      <td>0.802000</td>\n",
       "      <td>63.800000</td>\n",
       "    </tr>\n",
       "    <tr>\n",
       "      <th>max</th>\n",
       "      <td>603.000000</td>\n",
       "      <td>2016.000000</td>\n",
       "      <td>1.0</td>\n",
       "      <td>10.000000</td>\n",
       "      <td>25.007000</td>\n",
       "      <td>2017.000000</td>\n",
       "      <td>2018.000000</td>\n",
       "      <td>1611.000000</td>\n",
       "      <td>41.100000</td>\n",
       "      <td>30.100000</td>\n",
       "      <td>14.000000</td>\n",
       "      <td>11.200000</td>\n",
       "      <td>2.700000</td>\n",
       "      <td>3.100000</td>\n",
       "      <td>0.641000</td>\n",
       "      <td>0.642000</td>\n",
       "      <td>0.667000</td>\n",
       "      <td>0.905000</td>\n",
       "      <td>273.400000</td>\n",
       "    </tr>\n",
       "  </tbody>\n",
       "</table>\n",
       "</div>"
      ],
      "text/plain": [
       "               Rk         Year     Rd          Pk         Age         From  \\\n",
       "count  399.000000   399.000000  399.0  399.000000  399.000000   399.000000   \n",
       "mean   272.398496  1992.676692    1.0    5.438596   21.159877  1993.716792   \n",
       "std    163.167621    13.173494    0.0    2.855061    1.181281    13.143105   \n",
       "min      1.000000  1965.000000    1.0    1.000000   18.276000  1966.000000   \n",
       "25%    135.000000  1982.000000    1.0    3.000000   20.242000  1983.000000   \n",
       "50%    263.000000  1992.000000    1.0    5.000000   21.251000  1993.000000   \n",
       "75%    401.500000  2004.000000    1.0    8.000000   22.109500  2005.000000   \n",
       "max    603.000000  2016.000000    1.0   10.000000   25.007000  2017.000000   \n",
       "\n",
       "                To            G          MP         PTS         TRB  \\\n",
       "count   399.000000   399.000000  399.000000  399.000000  399.000000   \n",
       "mean   2003.370927   678.721805   27.487469   12.807268    5.195489   \n",
       "std      12.311198   308.171541    6.264641    5.052764    2.435898   \n",
       "min    1980.000000   103.000000    8.200000    2.800000    1.000000   \n",
       "25%    1993.000000   437.000000   22.750000    8.950000    3.300000   \n",
       "50%    2005.000000   687.000000   28.400000   12.300000    4.700000   \n",
       "75%    2016.500000   905.500000   32.550000   16.100000    6.600000   \n",
       "max    2018.000000  1611.000000   41.100000   30.100000   14.000000   \n",
       "\n",
       "              AST         STL         BLK         FG%         2P%         3P%  \\\n",
       "count  399.000000  399.000000  399.000000  399.000000  399.000000  399.000000   \n",
       "mean     2.635589    0.904010    0.614536    0.464539    0.480376    0.251739   \n",
       "std      1.822952    0.410703    0.526379    0.040427    0.034495    0.125899   \n",
       "min      0.300000    0.200000    0.000000    0.353000    0.377000    0.000000   \n",
       "25%      1.300000    0.600000    0.250000    0.438000    0.460500    0.167000   \n",
       "50%      2.200000    0.800000    0.500000    0.462000    0.479000    0.295000   \n",
       "75%      3.400000    1.100000    0.800000    0.490000    0.503000    0.346000   \n",
       "max     11.200000    2.700000    3.100000    0.641000    0.642000    0.667000   \n",
       "\n",
       "              FT%          WS  \n",
       "count  399.000000  399.000000  \n",
       "mean     0.749815   47.242857  \n",
       "std      0.076866   40.657682  \n",
       "min      0.421000   -2.700000  \n",
       "25%      0.706500   17.350000  \n",
       "50%      0.760000   37.400000  \n",
       "75%      0.802000   63.800000  \n",
       "max      0.905000  273.400000  "
      ]
     },
     "execution_count": 14,
     "metadata": {},
     "output_type": "execute_result"
    }
   ],
   "source": [
    "draft.describe()"
   ]
  },
  {
   "cell_type": "code",
   "execution_count": 15,
   "metadata": {},
   "outputs": [
    {
     "data": {
      "text/html": [
       "<div>\n",
       "<style>\n",
       "    .dataframe thead tr:only-child th {\n",
       "        text-align: right;\n",
       "    }\n",
       "\n",
       "    .dataframe thead th {\n",
       "        text-align: left;\n",
       "    }\n",
       "\n",
       "    .dataframe tbody tr th {\n",
       "        vertical-align: top;\n",
       "    }\n",
       "</style>\n",
       "<table border=\"1\" class=\"dataframe\">\n",
       "  <thead>\n",
       "    <tr style=\"text-align: right;\">\n",
       "      <th></th>\n",
       "      <th>PTS</th>\n",
       "      <th>TRB</th>\n",
       "      <th>AST</th>\n",
       "      <th>STL</th>\n",
       "      <th>BLK</th>\n",
       "      <th>FG%</th>\n",
       "      <th>2P%</th>\n",
       "      <th>3P%</th>\n",
       "      <th>FT%</th>\n",
       "    </tr>\n",
       "  </thead>\n",
       "  <tbody>\n",
       "    <tr>\n",
       "      <th>mean</th>\n",
       "      <td>12.807268</td>\n",
       "      <td>5.195489</td>\n",
       "      <td>2.635589</td>\n",
       "      <td>0.904010</td>\n",
       "      <td>0.614536</td>\n",
       "      <td>0.464539</td>\n",
       "      <td>0.480376</td>\n",
       "      <td>0.251739</td>\n",
       "      <td>0.749815</td>\n",
       "    </tr>\n",
       "    <tr>\n",
       "      <th>std</th>\n",
       "      <td>5.052764</td>\n",
       "      <td>2.435898</td>\n",
       "      <td>1.822952</td>\n",
       "      <td>0.410703</td>\n",
       "      <td>0.526379</td>\n",
       "      <td>0.040427</td>\n",
       "      <td>0.034495</td>\n",
       "      <td>0.125899</td>\n",
       "      <td>0.076866</td>\n",
       "    </tr>\n",
       "    <tr>\n",
       "      <th>min</th>\n",
       "      <td>2.800000</td>\n",
       "      <td>1.000000</td>\n",
       "      <td>0.300000</td>\n",
       "      <td>0.200000</td>\n",
       "      <td>0.000000</td>\n",
       "      <td>0.353000</td>\n",
       "      <td>0.377000</td>\n",
       "      <td>0.000000</td>\n",
       "      <td>0.421000</td>\n",
       "    </tr>\n",
       "    <tr>\n",
       "      <th>25%</th>\n",
       "      <td>8.950000</td>\n",
       "      <td>3.300000</td>\n",
       "      <td>1.300000</td>\n",
       "      <td>0.600000</td>\n",
       "      <td>0.250000</td>\n",
       "      <td>0.438000</td>\n",
       "      <td>0.460500</td>\n",
       "      <td>0.167000</td>\n",
       "      <td>0.706500</td>\n",
       "    </tr>\n",
       "    <tr>\n",
       "      <th>50%</th>\n",
       "      <td>12.300000</td>\n",
       "      <td>4.700000</td>\n",
       "      <td>2.200000</td>\n",
       "      <td>0.800000</td>\n",
       "      <td>0.500000</td>\n",
       "      <td>0.462000</td>\n",
       "      <td>0.479000</td>\n",
       "      <td>0.295000</td>\n",
       "      <td>0.760000</td>\n",
       "    </tr>\n",
       "    <tr>\n",
       "      <th>75%</th>\n",
       "      <td>16.100000</td>\n",
       "      <td>6.600000</td>\n",
       "      <td>3.400000</td>\n",
       "      <td>1.100000</td>\n",
       "      <td>0.800000</td>\n",
       "      <td>0.490000</td>\n",
       "      <td>0.503000</td>\n",
       "      <td>0.346000</td>\n",
       "      <td>0.802000</td>\n",
       "    </tr>\n",
       "    <tr>\n",
       "      <th>max</th>\n",
       "      <td>30.100000</td>\n",
       "      <td>14.000000</td>\n",
       "      <td>11.200000</td>\n",
       "      <td>2.700000</td>\n",
       "      <td>3.100000</td>\n",
       "      <td>0.641000</td>\n",
       "      <td>0.642000</td>\n",
       "      <td>0.667000</td>\n",
       "      <td>0.905000</td>\n",
       "    </tr>\n",
       "  </tbody>\n",
       "</table>\n",
       "</div>"
      ],
      "text/plain": [
       "            PTS        TRB        AST       STL       BLK       FG%       2P%  \\\n",
       "mean  12.807268   5.195489   2.635589  0.904010  0.614536  0.464539  0.480376   \n",
       "std    5.052764   2.435898   1.822952  0.410703  0.526379  0.040427  0.034495   \n",
       "min    2.800000   1.000000   0.300000  0.200000  0.000000  0.353000  0.377000   \n",
       "25%    8.950000   3.300000   1.300000  0.600000  0.250000  0.438000  0.460500   \n",
       "50%   12.300000   4.700000   2.200000  0.800000  0.500000  0.462000  0.479000   \n",
       "75%   16.100000   6.600000   3.400000  1.100000  0.800000  0.490000  0.503000   \n",
       "max   30.100000  14.000000  11.200000  2.700000  3.100000  0.641000  0.642000   \n",
       "\n",
       "           3P%       FT%  \n",
       "mean  0.251739  0.749815  \n",
       "std   0.125899  0.076866  \n",
       "min   0.000000  0.421000  \n",
       "25%   0.167000  0.706500  \n",
       "50%   0.295000  0.760000  \n",
       "75%   0.346000  0.802000  \n",
       "max   0.667000  0.905000  "
      ]
     },
     "execution_count": 15,
     "metadata": {},
     "output_type": "execute_result"
    }
   ],
   "source": [
    "# Statistics for box score statistics for our players\n",
    "draft.describe().loc['mean':, 'PTS':'FT%']"
   ]
  },
  {
   "cell_type": "code",
   "execution_count": 16,
   "metadata": {},
   "outputs": [
    {
     "name": "stdout",
     "output_type": "stream",
     "text": [
      "<class 'pandas.core.frame.DataFrame'>\n",
      "Int64Index: 399 entries, 0 to 602\n",
      "Data columns (total 26 columns):\n",
      "Rk         399 non-null int64\n",
      "Year       399 non-null int64\n",
      "Lg         399 non-null object\n",
      "Rd         399 non-null int64\n",
      "Pk         399 non-null int64\n",
      "Tm         399 non-null object\n",
      "Player     399 non-null object\n",
      "Age        399 non-null float64\n",
      "Pos        399 non-null object\n",
      "Born       399 non-null object\n",
      "College    399 non-null object\n",
      "From       399 non-null int64\n",
      "To         399 non-null int64\n",
      "G          399 non-null int64\n",
      "MP         399 non-null float64\n",
      "PTS        399 non-null float64\n",
      "TRB        399 non-null float64\n",
      "AST        399 non-null float64\n",
      "STL        399 non-null float64\n",
      "BLK        399 non-null float64\n",
      "FG%        399 non-null float64\n",
      "2P%        399 non-null float64\n",
      "3P%        399 non-null float64\n",
      "FT%        399 non-null float64\n",
      "WS         399 non-null float64\n",
      "WS/48      399 non-null object\n",
      "dtypes: float64(12), int64(7), object(7)\n",
      "memory usage: 84.2+ KB\n"
     ]
    }
   ],
   "source": [
    "draft.info()\n"
   ]
  },
  {
   "cell_type": "markdown",
   "metadata": {},
   "source": [
    "## College Data\n",
    "This is the table that I collected for college data from [College-Reference](https://www.sports-reference.com/cbb/play-index/psl_finder.cgi?request=1&match=combined&class_is_fr=Y&class_is_so=Y&class_is_jr=Y&class_is_sr=Y&pos_is_g=Y&pos_is_gf=Y&pos_is_f=Y&pos_is_fg=Y&pos_is_fc=Y&pos_is_c=Y&pos_is_cf=Y&games_type=A&c1stat=g&c1comp=gt&c1val=30&order_by=mp_per_g). <br> \n",
    "\n",
    "** NOTE: Since our college data is only from 2009-10 onwards we have to adjust with our draft data.**"
   ]
  },
  {
   "cell_type": "code",
   "execution_count": 17,
   "metadata": {
    "collapsed": true
   },
   "outputs": [],
   "source": [
    "draft = draft[draft['Year'] >= 2010]"
   ]
  },
  {
   "cell_type": "code",
   "execution_count": 18,
   "metadata": {},
   "outputs": [
    {
     "data": {
      "text/plain": [
       "(58, 26)"
      ]
     },
     "execution_count": 18,
     "metadata": {},
     "output_type": "execute_result"
    }
   ],
   "source": [
    "np.shape(draft)"
   ]
  },
  {
   "cell_type": "markdown",
   "metadata": {},
   "source": [
    "We get a very small sample size of 58"
   ]
  },
  {
   "cell_type": "code",
   "execution_count": 19,
   "metadata": {},
   "outputs": [
    {
     "data": {
      "text/html": [
       "<div>\n",
       "<style>\n",
       "    .dataframe thead tr:only-child th {\n",
       "        text-align: right;\n",
       "    }\n",
       "\n",
       "    .dataframe thead th {\n",
       "        text-align: left;\n",
       "    }\n",
       "\n",
       "    .dataframe tbody tr th {\n",
       "        vertical-align: top;\n",
       "    }\n",
       "</style>\n",
       "<table border=\"1\" class=\"dataframe\">\n",
       "  <thead>\n",
       "    <tr style=\"text-align: right;\">\n",
       "      <th></th>\n",
       "      <th>Rk</th>\n",
       "      <th>Year</th>\n",
       "      <th>Lg</th>\n",
       "      <th>Rd</th>\n",
       "      <th>Pk</th>\n",
       "      <th>Tm</th>\n",
       "      <th>Player</th>\n",
       "      <th>Age</th>\n",
       "      <th>Pos</th>\n",
       "      <th>Born</th>\n",
       "      <th>...</th>\n",
       "      <th>TRB</th>\n",
       "      <th>AST</th>\n",
       "      <th>STL</th>\n",
       "      <th>BLK</th>\n",
       "      <th>FG%</th>\n",
       "      <th>2P%</th>\n",
       "      <th>3P%</th>\n",
       "      <th>FT%</th>\n",
       "      <th>WS</th>\n",
       "      <th>WS/48</th>\n",
       "    </tr>\n",
       "  </thead>\n",
       "  <tbody>\n",
       "    <tr>\n",
       "      <th>142</th>\n",
       "      <td>143</td>\n",
       "      <td>2012</td>\n",
       "      <td>NBA</td>\n",
       "      <td>1</td>\n",
       "      <td>1</td>\n",
       "      <td>NOH</td>\n",
       "      <td>Anthony Davis</td>\n",
       "      <td>19.114</td>\n",
       "      <td>F-C</td>\n",
       "      <td>us</td>\n",
       "      <td>...</td>\n",
       "      <td>10.3</td>\n",
       "      <td>1.9</td>\n",
       "      <td>1.3</td>\n",
       "      <td>2.4</td>\n",
       "      <td>0.517</td>\n",
       "      <td>0.531</td>\n",
       "      <td>0.309</td>\n",
       "      <td>0.795</td>\n",
       "      <td>62.5</td>\n",
       "      <td>.210</td>\n",
       "    </tr>\n",
       "    <tr>\n",
       "      <th>161</th>\n",
       "      <td>162</td>\n",
       "      <td>2012</td>\n",
       "      <td>NBA</td>\n",
       "      <td>1</td>\n",
       "      <td>6</td>\n",
       "      <td>POR</td>\n",
       "      <td>Damian Lillard</td>\n",
       "      <td>21.354</td>\n",
       "      <td>G</td>\n",
       "      <td>us</td>\n",
       "      <td>...</td>\n",
       "      <td>4.1</td>\n",
       "      <td>6.2</td>\n",
       "      <td>0.9</td>\n",
       "      <td>0.3</td>\n",
       "      <td>0.432</td>\n",
       "      <td>0.477</td>\n",
       "      <td>0.368</td>\n",
       "      <td>0.884</td>\n",
       "      <td>58.2</td>\n",
       "      <td>.164</td>\n",
       "    </tr>\n",
       "    <tr>\n",
       "      <th>184</th>\n",
       "      <td>185</td>\n",
       "      <td>2010</td>\n",
       "      <td>NBA</td>\n",
       "      <td>1</td>\n",
       "      <td>10</td>\n",
       "      <td>IND</td>\n",
       "      <td>Paul George</td>\n",
       "      <td>20.058</td>\n",
       "      <td>F</td>\n",
       "      <td>us</td>\n",
       "      <td>...</td>\n",
       "      <td>6.2</td>\n",
       "      <td>3.2</td>\n",
       "      <td>1.7</td>\n",
       "      <td>0.4</td>\n",
       "      <td>0.432</td>\n",
       "      <td>0.468</td>\n",
       "      <td>0.376</td>\n",
       "      <td>0.844</td>\n",
       "      <td>53.4</td>\n",
       "      <td>.146</td>\n",
       "    </tr>\n",
       "    <tr>\n",
       "      <th>201</th>\n",
       "      <td>202</td>\n",
       "      <td>2011</td>\n",
       "      <td>NBA</td>\n",
       "      <td>1</td>\n",
       "      <td>1</td>\n",
       "      <td>CLE</td>\n",
       "      <td>Kyrie Irving</td>\n",
       "      <td>19.096</td>\n",
       "      <td>G</td>\n",
       "      <td>au</td>\n",
       "      <td>...</td>\n",
       "      <td>3.4</td>\n",
       "      <td>5.5</td>\n",
       "      <td>1.3</td>\n",
       "      <td>0.3</td>\n",
       "      <td>0.462</td>\n",
       "      <td>0.493</td>\n",
       "      <td>0.388</td>\n",
       "      <td>0.875</td>\n",
       "      <td>49.3</td>\n",
       "      <td>.158</td>\n",
       "    </tr>\n",
       "    <tr>\n",
       "      <th>203</th>\n",
       "      <td>204</td>\n",
       "      <td>2010</td>\n",
       "      <td>NBA</td>\n",
       "      <td>1</td>\n",
       "      <td>7</td>\n",
       "      <td>DET</td>\n",
       "      <td>Greg Monroe</td>\n",
       "      <td>20.025</td>\n",
       "      <td>C-F</td>\n",
       "      <td>us</td>\n",
       "      <td>...</td>\n",
       "      <td>8.6</td>\n",
       "      <td>2.3</td>\n",
       "      <td>1.1</td>\n",
       "      <td>0.6</td>\n",
       "      <td>0.515</td>\n",
       "      <td>0.516</td>\n",
       "      <td>0.000</td>\n",
       "      <td>0.707</td>\n",
       "      <td>48.6</td>\n",
       "      <td>.137</td>\n",
       "    </tr>\n",
       "    <tr>\n",
       "      <th>215</th>\n",
       "      <td>216</td>\n",
       "      <td>2012</td>\n",
       "      <td>NBA</td>\n",
       "      <td>1</td>\n",
       "      <td>9</td>\n",
       "      <td>DET</td>\n",
       "      <td>Andre Drummond</td>\n",
       "      <td>18.327</td>\n",
       "      <td>C</td>\n",
       "      <td>us</td>\n",
       "      <td>...</td>\n",
       "      <td>13.4</td>\n",
       "      <td>1.1</td>\n",
       "      <td>1.3</td>\n",
       "      <td>1.5</td>\n",
       "      <td>0.545</td>\n",
       "      <td>0.547</td>\n",
       "      <td>0.167</td>\n",
       "      <td>0.421</td>\n",
       "      <td>46.4</td>\n",
       "      <td>.158</td>\n",
       "    </tr>\n",
       "    <tr>\n",
       "      <th>227</th>\n",
       "      <td>228</td>\n",
       "      <td>2010</td>\n",
       "      <td>NBA</td>\n",
       "      <td>1</td>\n",
       "      <td>1</td>\n",
       "      <td>WAS</td>\n",
       "      <td>John Wall</td>\n",
       "      <td>19.296</td>\n",
       "      <td>G</td>\n",
       "      <td>us</td>\n",
       "      <td>...</td>\n",
       "      <td>4.4</td>\n",
       "      <td>9.2</td>\n",
       "      <td>1.7</td>\n",
       "      <td>0.7</td>\n",
       "      <td>0.432</td>\n",
       "      <td>0.454</td>\n",
       "      <td>0.327</td>\n",
       "      <td>0.786</td>\n",
       "      <td>43.2</td>\n",
       "      <td>.107</td>\n",
       "    </tr>\n",
       "    <tr>\n",
       "      <th>228</th>\n",
       "      <td>229</td>\n",
       "      <td>2010</td>\n",
       "      <td>NBA</td>\n",
       "      <td>1</td>\n",
       "      <td>9</td>\n",
       "      <td>UTA</td>\n",
       "      <td>Gordon Hayward</td>\n",
       "      <td>20.098</td>\n",
       "      <td>F-G</td>\n",
       "      <td>us</td>\n",
       "      <td>...</td>\n",
       "      <td>4.2</td>\n",
       "      <td>3.4</td>\n",
       "      <td>1.0</td>\n",
       "      <td>0.4</td>\n",
       "      <td>0.444</td>\n",
       "      <td>0.478</td>\n",
       "      <td>0.368</td>\n",
       "      <td>0.820</td>\n",
       "      <td>43.0</td>\n",
       "      <td>.128</td>\n",
       "    </tr>\n",
       "    <tr>\n",
       "      <th>237</th>\n",
       "      <td>238</td>\n",
       "      <td>2010</td>\n",
       "      <td>NBA</td>\n",
       "      <td>1</td>\n",
       "      <td>5</td>\n",
       "      <td>SAC</td>\n",
       "      <td>DeMarcus Cousins</td>\n",
       "      <td>19.320</td>\n",
       "      <td>C-F</td>\n",
       "      <td>us</td>\n",
       "      <td>...</td>\n",
       "      <td>11.0</td>\n",
       "      <td>3.2</td>\n",
       "      <td>1.4</td>\n",
       "      <td>1.2</td>\n",
       "      <td>0.460</td>\n",
       "      <td>0.474</td>\n",
       "      <td>0.338</td>\n",
       "      <td>0.737</td>\n",
       "      <td>41.6</td>\n",
       "      <td>.115</td>\n",
       "    </tr>\n",
       "    <tr>\n",
       "      <th>238</th>\n",
       "      <td>239</td>\n",
       "      <td>2010</td>\n",
       "      <td>NBA</td>\n",
       "      <td>1</td>\n",
       "      <td>3</td>\n",
       "      <td>NJN</td>\n",
       "      <td>Derrick Favors</td>\n",
       "      <td>18.349</td>\n",
       "      <td>F-C</td>\n",
       "      <td>us</td>\n",
       "      <td>...</td>\n",
       "      <td>7.2</td>\n",
       "      <td>1.1</td>\n",
       "      <td>0.8</td>\n",
       "      <td>1.3</td>\n",
       "      <td>0.517</td>\n",
       "      <td>0.523</td>\n",
       "      <td>0.202</td>\n",
       "      <td>0.663</td>\n",
       "      <td>41.5</td>\n",
       "      <td>.138</td>\n",
       "    </tr>\n",
       "  </tbody>\n",
       "</table>\n",
       "<p>10 rows × 26 columns</p>\n",
       "</div>"
      ],
      "text/plain": [
       "      Rk  Year   Lg  Rd  Pk   Tm            Player     Age  Pos Born  ...    \\\n",
       "142  143  2012  NBA   1   1  NOH     Anthony Davis  19.114  F-C   us  ...     \n",
       "161  162  2012  NBA   1   6  POR    Damian Lillard  21.354    G   us  ...     \n",
       "184  185  2010  NBA   1  10  IND       Paul George  20.058    F   us  ...     \n",
       "201  202  2011  NBA   1   1  CLE      Kyrie Irving  19.096    G   au  ...     \n",
       "203  204  2010  NBA   1   7  DET       Greg Monroe  20.025  C-F   us  ...     \n",
       "215  216  2012  NBA   1   9  DET    Andre Drummond  18.327    C   us  ...     \n",
       "227  228  2010  NBA   1   1  WAS         John Wall  19.296    G   us  ...     \n",
       "228  229  2010  NBA   1   9  UTA    Gordon Hayward  20.098  F-G   us  ...     \n",
       "237  238  2010  NBA   1   5  SAC  DeMarcus Cousins  19.320  C-F   us  ...     \n",
       "238  239  2010  NBA   1   3  NJN    Derrick Favors  18.349  F-C   us  ...     \n",
       "\n",
       "      TRB  AST  STL  BLK    FG%    2P%    3P%    FT%    WS  WS/48  \n",
       "142  10.3  1.9  1.3  2.4  0.517  0.531  0.309  0.795  62.5   .210  \n",
       "161   4.1  6.2  0.9  0.3  0.432  0.477  0.368  0.884  58.2   .164  \n",
       "184   6.2  3.2  1.7  0.4  0.432  0.468  0.376  0.844  53.4   .146  \n",
       "201   3.4  5.5  1.3  0.3  0.462  0.493  0.388  0.875  49.3   .158  \n",
       "203   8.6  2.3  1.1  0.6  0.515  0.516  0.000  0.707  48.6   .137  \n",
       "215  13.4  1.1  1.3  1.5  0.545  0.547  0.167  0.421  46.4   .158  \n",
       "227   4.4  9.2  1.7  0.7  0.432  0.454  0.327  0.786  43.2   .107  \n",
       "228   4.2  3.4  1.0  0.4  0.444  0.478  0.368  0.820  43.0   .128  \n",
       "237  11.0  3.2  1.4  1.2  0.460  0.474  0.338  0.737  41.6   .115  \n",
       "238   7.2  1.1  0.8  1.3  0.517  0.523  0.202  0.663  41.5   .138  \n",
       "\n",
       "[10 rows x 26 columns]"
      ]
     },
     "execution_count": 19,
     "metadata": {},
     "output_type": "execute_result"
    }
   ],
   "source": [
    "draft.head(10)"
   ]
  },
  {
   "cell_type": "code",
   "execution_count": 20,
   "metadata": {
    "collapsed": true
   },
   "outputs": [],
   "source": [
    "college = pd.read_table('college.txt', sep = ',', header = 1)"
   ]
  },
  {
   "cell_type": "code",
   "execution_count": 21,
   "metadata": {
    "collapsed": true
   },
   "outputs": [],
   "source": [
    "# Removing the /playerid in the Player column\n",
    "college['Player'] = college['Player'].map(lambda x:  x.lstrip('\\\\').rstrip('-abcdefghijklmnopqrstuvwxyz0123456789'))"
   ]
  },
  {
   "cell_type": "code",
   "execution_count": 22,
   "metadata": {
    "collapsed": true
   },
   "outputs": [],
   "source": [
    "college['Player'] = college['Player'].str.strip(\"\\\\\")"
   ]
  },
  {
   "cell_type": "markdown",
   "metadata": {},
   "source": [
    "Right now, there are 50 players that are matching out of 58 "
   ]
  },
  {
   "cell_type": "code",
   "execution_count": 23,
   "metadata": {},
   "outputs": [
    {
     "data": {
      "text/plain": [
       "50"
      ]
     },
     "execution_count": 23,
     "metadata": {},
     "output_type": "execute_result"
    }
   ],
   "source": [
    "sum(draft['Player'].isin(college['Player']) == True)"
   ]
  },
  {
   "cell_type": "code",
   "execution_count": 24,
   "metadata": {
    "collapsed": true
   },
   "outputs": [],
   "source": [
    "matches = draft['Player'].isin(college['Player'])"
   ]
  },
  {
   "cell_type": "code",
   "execution_count": 25,
   "metadata": {},
   "outputs": [
    {
     "data": {
      "text/plain": [
       "True"
      ]
     },
     "execution_count": 25,
     "metadata": {},
     "output_type": "execute_result"
    }
   ],
   "source": [
    "matches.iloc[0]"
   ]
  },
  {
   "cell_type": "markdown",
   "metadata": {},
   "source": [
    "For whatever reason, I like to make my life complicated and as a result I made this `for` loop to see which players college data was missing\n",
    "\n",
    "**NOTE: Not enough data for Kyrie Irving since he only played 11 games in 1 season. **\n",
    "\n",
    "**NOTE: Nerlens Noel only played 24 games for Kentucky, the college data that I collected is for players that played at least 30 games**\n",
    "\n",
    "\n",
    "**NOTE: We will stick with 50 players, here is where I [stopped](https://www.sports-reference.com/cbb/play-index/psl_finder.cgi?request=1&match=combined&year_min=2010&year_max=&conf_id=&school_id=&class_is_fr=Y&class_is_so=Y&class_is_jr=Y&class_is_sr=Y&pos_is_g=Y&pos_is_gf=Y&pos_is_fg=Y&pos_is_f=Y&pos_is_fc=Y&pos_is_cf=Y&pos_is_c=Y&games_type=A&qual=&c1stat=g&c1comp=gt&c1val=30&c2stat=&c2comp=&c2val=&c3stat=&c3comp=&c3val=&c4stat=&c4comp=&c4val=&order_by=mp_per_g&order_by_asc=&offset=4700)**"
   ]
  },
  {
   "cell_type": "code",
   "execution_count": 26,
   "metadata": {},
   "outputs": [
    {
     "name": "stdout",
     "output_type": "stream",
     "text": [
      "Paul George\n",
      "Kyrie Irving\n",
      "Karl-Anthony Towns\n",
      "Nerlens Noel\n",
      "Wesley Johnson\n",
      "Frank Kaminsky\n",
      "Dion Waiters\n",
      "Thomas Robinson\n"
     ]
    }
   ],
   "source": [
    "for val in range(len(matches)):\n",
    "    if matches.iloc[val] == False:\n",
    "        print(draft['Player'].iloc[val])"
   ]
  },
  {
   "cell_type": "markdown",
   "metadata": {},
   "source": [
    "## Combining the two datasets"
   ]
  },
  {
   "cell_type": "markdown",
   "metadata": {},
   "source": [
    "Only reduce the datasets to where they match with our `draft` dataset"
   ]
  },
  {
   "cell_type": "code",
   "execution_count": 27,
   "metadata": {
    "collapsed": true
   },
   "outputs": [],
   "source": [
    "college = college[college['Player'].isin(draft['Player'])]"
   ]
  },
  {
   "cell_type": "code",
   "execution_count": 28,
   "metadata": {
    "collapsed": true
   },
   "outputs": [],
   "source": [
    "draft = draft[draft['Player'].isin(college['Player'])]"
   ]
  },
  {
   "cell_type": "markdown",
   "metadata": {},
   "source": [
    "## Exploring the two datasets to see if we can merge"
   ]
  },
  {
   "cell_type": "code",
   "execution_count": 29,
   "metadata": {},
   "outputs": [
    {
     "data": {
      "text/plain": [
       "['Rk',\n",
       " 'Player',\n",
       " 'From',\n",
       " 'To',\n",
       " 'School',\n",
       " 'Conf',\n",
       " 'G',\n",
       " 'MP',\n",
       " 'MP.1',\n",
       " 'FG',\n",
       " 'FGA',\n",
       " '2P',\n",
       " '2PA',\n",
       " '3P',\n",
       " '3PA',\n",
       " 'FT',\n",
       " 'FTA',\n",
       " 'ORB',\n",
       " 'DRB',\n",
       " 'TRB',\n",
       " 'AST',\n",
       " 'STL',\n",
       " 'BLK',\n",
       " 'TOV',\n",
       " 'PF',\n",
       " 'PTS']"
      ]
     },
     "execution_count": 29,
     "metadata": {},
     "output_type": "execute_result"
    }
   ],
   "source": [
    "list(college)"
   ]
  },
  {
   "cell_type": "code",
   "execution_count": 30,
   "metadata": {},
   "outputs": [
    {
     "data": {
      "text/plain": [
       "['Rk',\n",
       " 'Year',\n",
       " 'Lg',\n",
       " 'Rd',\n",
       " 'Pk',\n",
       " 'Tm',\n",
       " 'Player',\n",
       " 'Age',\n",
       " 'Pos',\n",
       " 'Born',\n",
       " 'College',\n",
       " 'From',\n",
       " 'To',\n",
       " 'G',\n",
       " 'MP',\n",
       " 'PTS',\n",
       " 'TRB',\n",
       " 'AST',\n",
       " 'STL',\n",
       " 'BLK',\n",
       " 'FG%',\n",
       " '2P%',\n",
       " '3P%',\n",
       " 'FT%',\n",
       " 'WS',\n",
       " 'WS/48']"
      ]
     },
     "execution_count": 30,
     "metadata": {},
     "output_type": "execute_result"
    }
   ],
   "source": [
    "list(draft)"
   ]
  },
  {
   "cell_type": "code",
   "execution_count": 31,
   "metadata": {
    "collapsed": true
   },
   "outputs": [],
   "source": [
    "# It worked! \n",
    "testdf = pd.merge(college, draft, on = \"Player\")"
   ]
  },
  {
   "cell_type": "code",
   "execution_count": 32,
   "metadata": {},
   "outputs": [
    {
     "data": {
      "text/plain": [
       "(51, 51)"
      ]
     },
     "execution_count": 32,
     "metadata": {},
     "output_type": "execute_result"
    }
   ],
   "source": [
    "np.shape(testdf)"
   ]
  },
  {
   "cell_type": "markdown",
   "metadata": {},
   "source": [
    "## Creating certain plots"
   ]
  },
  {
   "cell_type": "code",
   "execution_count": 33,
   "metadata": {},
   "outputs": [
    {
     "data": {
      "text/plain": [
       "<matplotlib.axes._subplots.AxesSubplot at 0x2dc9224b9b0>"
      ]
     },
     "execution_count": 33,
     "metadata": {},
     "output_type": "execute_result"
    },
    {
     "data": {
      "image/png": "[encoded data removed]",
      "text/plain": [
       "<matplotlib.figure.Figure at 0x2dc921d7e48>"
      ]
     },
     "metadata": {},
     "output_type": "display_data"
    }
   ],
   "source": [
    "# Using actual data\n",
    "%matplotlib inline\n",
    "sns.regplot(x = testdf['FG'] / testdf['FGA'] , \n",
    "            y = '3P%', \n",
    "            data = testdf)"
   ]
  },
  {
   "cell_type": "code",
   "execution_count": 34,
   "metadata": {},
   "outputs": [
    {
     "data": {
      "text/plain": [
       "<matplotlib.axes._subplots.AxesSubplot at 0x2dc92321208>"
      ]
     },
     "execution_count": 34,
     "metadata": {},
     "output_type": "execute_result"
    },
    {
     "data": {
      "image/png": "[encoded data removed]",
      "text/plain": [
       "<matplotlib.figure.Figure at 0x2dc9224a630>"
      ]
     },
     "metadata": {},
     "output_type": "display_data"
    }
   ],
   "source": [
    "# Using actual data\n",
    "%matplotlib inline\n",
    "sns.regplot(x = testdf['3P'] / testdf['3PA'] , \n",
    "            y = '3P%', \n",
    "            data = testdf)"
   ]
  },
  {
   "cell_type": "markdown",
   "metadata": {},
   "source": [
    "## Making a multiple linear regression model \n",
    "\n",
    "I will be using the college shooting statistics as independent variables and the NBA 3PT shooting as dependent variables. \n",
    "\n",
    "Thinking: Let us merge the two columns on `Player`"
   ]
  },
  {
   "cell_type": "code",
   "execution_count": 35,
   "metadata": {
    "collapsed": true
   },
   "outputs": [],
   "source": [
    "college_3 = testdf['3P'] / testdf['3PA']\n",
    "college_2 = testdf['2P'] / testdf['2PA']\n",
    "college_FT = testdf['FT'] / testdf['FTA']"
   ]
  },
  {
   "cell_type": "markdown",
   "metadata": {},
   "source": [
    "## Adding new columns to our merged data frame\n",
    "\n",
    "The statistics that we collected were `2P` made per game and `3P` made per game, they were not %. Therefore, I am manually adding those columns to our dataframe"
   ]
  },
  {
   "cell_type": "code",
   "execution_count": 36,
   "metadata": {
    "collapsed": true
   },
   "outputs": [],
   "source": [
    "testdf['3P%(College)'] , testdf['2P%(College)'], testdf['FT%(College)'] = [college_3, college_2, college_FT]"
   ]
  },
  {
   "cell_type": "code",
   "execution_count": 37,
   "metadata": {
    "collapsed": true
   },
   "outputs": [],
   "source": [
    "X_mat = testdf['FT%(College)']\n",
    "y_mat = testdf[\"3P%\"]"
   ]
  },
  {
   "cell_type": "code",
   "execution_count": 38,
   "metadata": {},
   "outputs": [
    {
     "data": {
      "text/html": [
       "<table class=\"simpletable\">\n",
       "<caption>OLS Regression Results</caption>\n",
       "<tr>\n",
       "  <th>Dep. Variable:</th>           <td>3P%</td>       <th>  R-squared:         </th> <td>   0.901</td>\n",
       "</tr>\n",
       "<tr>\n",
       "  <th>Model:</th>                   <td>OLS</td>       <th>  Adj. R-squared:    </th> <td>   0.899</td>\n",
       "</tr>\n",
       "<tr>\n",
       "  <th>Method:</th>             <td>Least Squares</td>  <th>  F-statistic:       </th> <td>   456.6</td>\n",
       "</tr>\n",
       "<tr>\n",
       "  <th>Date:</th>             <td>Thu, 07 Jun 2018</td> <th>  Prob (F-statistic):</th> <td>8.52e-27</td>\n",
       "</tr>\n",
       "<tr>\n",
       "  <th>Time:</th>                 <td>08:44:38</td>     <th>  Log-Likelihood:    </th> <td>  45.447</td>\n",
       "</tr>\n",
       "<tr>\n",
       "  <th>No. Observations:</th>      <td>    51</td>      <th>  AIC:               </th> <td>  -88.89</td>\n",
       "</tr>\n",
       "<tr>\n",
       "  <th>Df Residuals:</th>          <td>    50</td>      <th>  BIC:               </th> <td>  -86.96</td>\n",
       "</tr>\n",
       "<tr>\n",
       "  <th>Df Model:</th>              <td>     1</td>      <th>                     </th>     <td> </td>   \n",
       "</tr>\n",
       "<tr>\n",
       "  <th>Covariance Type:</th>      <td>nonrobust</td>    <th>                     </th>     <td> </td>   \n",
       "</tr>\n",
       "</table>\n",
       "<table class=\"simpletable\">\n",
       "<tr>\n",
       "        <td></td>          <th>coef</th>     <th>std err</th>      <th>t</th>      <th>P>|t|</th>  <th>[0.025</th>    <th>0.975]</th>  \n",
       "</tr>\n",
       "<tr>\n",
       "  <th>FT%(College)</th> <td>    0.4185</td> <td>    0.020</td> <td>   21.367</td> <td> 0.000</td> <td>    0.379</td> <td>    0.458</td>\n",
       "</tr>\n",
       "</table>\n",
       "<table class=\"simpletable\">\n",
       "<tr>\n",
       "  <th>Omnibus:</th>       <td>26.452</td> <th>  Durbin-Watson:     </th> <td>   1.747</td>\n",
       "</tr>\n",
       "<tr>\n",
       "  <th>Prob(Omnibus):</th> <td> 0.000</td> <th>  Jarque-Bera (JB):  </th> <td>  52.758</td>\n",
       "</tr>\n",
       "<tr>\n",
       "  <th>Skew:</th>          <td>-1.536</td> <th>  Prob(JB):          </th> <td>3.50e-12</td>\n",
       "</tr>\n",
       "<tr>\n",
       "  <th>Kurtosis:</th>      <td> 6.923</td> <th>  Cond. No.          </th> <td>    1.00</td>\n",
       "</tr>\n",
       "</table>"
      ],
      "text/plain": [
       "<class 'statsmodels.iolib.summary.Summary'>\n",
       "\"\"\"\n",
       "                            OLS Regression Results                            \n",
       "==============================================================================\n",
       "Dep. Variable:                    3P%   R-squared:                       0.901\n",
       "Model:                            OLS   Adj. R-squared:                  0.899\n",
       "Method:                 Least Squares   F-statistic:                     456.6\n",
       "Date:                Thu, 07 Jun 2018   Prob (F-statistic):           8.52e-27\n",
       "Time:                        08:44:38   Log-Likelihood:                 45.447\n",
       "No. Observations:                  51   AIC:                            -88.89\n",
       "Df Residuals:                      50   BIC:                            -86.96\n",
       "Df Model:                           1                                         \n",
       "Covariance Type:            nonrobust                                         \n",
       "================================================================================\n",
       "                   coef    std err          t      P>|t|      [0.025      0.975]\n",
       "--------------------------------------------------------------------------------\n",
       "FT%(College)     0.4185      0.020     21.367      0.000       0.379       0.458\n",
       "==============================================================================\n",
       "Omnibus:                       26.452   Durbin-Watson:                   1.747\n",
       "Prob(Omnibus):                  0.000   Jarque-Bera (JB):               52.758\n",
       "Skew:                          -1.536   Prob(JB):                     3.50e-12\n",
       "Kurtosis:                       6.923   Cond. No.                         1.00\n",
       "==============================================================================\n",
       "\n",
       "Warnings:\n",
       "[1] Standard Errors assume that the covariance matrix of the errors is correctly specified.\n",
       "\"\"\""
      ]
     },
     "execution_count": 38,
     "metadata": {},
     "output_type": "execute_result"
    }
   ],
   "source": [
    "model = sm.OLS(y_mat, X_mat).fit()\n",
    "predictions = model.predict(X_mat)\n",
    "\n",
    "model.summary()"
   ]
  },
  {
   "cell_type": "markdown",
   "metadata": {},
   "source": [
    "## Results\n",
    "\n",
    "From this simple linear regression model, we see that a 1% increase in a Players' FT% is associated with a 0.41% increase in their NBA 3P%. In addition, we get a significiant `t`-statistic and `p`-value. The model give us an `R`-squared of 0.901, which means 90% of the variability in our dependent variable (i.e 3P%) can be explained by our model and its one predictor (we do not have a constant). "
   ]
  },
  {
   "cell_type": "markdown",
   "metadata": {},
   "source": [
    "## Plotting predicted values with actual"
   ]
  },
  {
   "cell_type": "code",
   "execution_count": 39,
   "metadata": {},
   "outputs": [
    {
     "data": {
      "text/plain": [
       "<matplotlib.axes._subplots.AxesSubplot at 0x2dc926b42e8>"
      ]
     },
     "execution_count": 39,
     "metadata": {},
     "output_type": "execute_result"
    },
    {
     "data": {
      "image/png": "[encoded data removed]",
      "text/plain": [
       "<matplotlib.figure.Figure at 0x2dc9224ac18>"
      ]
     },
     "metadata": {},
     "output_type": "display_data"
    }
   ],
   "source": [
    "%matplotlib inline\n",
    "sns.regplot(x = predictions, \n",
    "            y = '3P%', \n",
    "            data = testdf)"
   ]
  },
  {
   "cell_type": "code",
   "execution_count": 40,
   "metadata": {},
   "outputs": [
    {
     "data": {
      "text/html": [
       "<table class=\"simpletable\">\n",
       "<caption>OLS Regression Results</caption>\n",
       "<tr>\n",
       "  <th>Dep. Variable:</th>           <td>3P%</td>       <th>  R-squared:         </th> <td>   0.902</td>\n",
       "</tr>\n",
       "<tr>\n",
       "  <th>Model:</th>                   <td>OLS</td>       <th>  Adj. R-squared:    </th> <td>   0.898</td>\n",
       "</tr>\n",
       "<tr>\n",
       "  <th>Method:</th>             <td>Least Squares</td>  <th>  F-statistic:       </th> <td>   225.4</td>\n",
       "</tr>\n",
       "<tr>\n",
       "  <th>Date:</th>             <td>Thu, 07 Jun 2018</td> <th>  Prob (F-statistic):</th> <td>1.94e-25</td>\n",
       "</tr>\n",
       "<tr>\n",
       "  <th>Time:</th>                 <td>08:44:39</td>     <th>  Log-Likelihood:    </th> <td>  45.622</td>\n",
       "</tr>\n",
       "<tr>\n",
       "  <th>No. Observations:</th>      <td>    51</td>      <th>  AIC:               </th> <td>  -87.24</td>\n",
       "</tr>\n",
       "<tr>\n",
       "  <th>Df Residuals:</th>          <td>    49</td>      <th>  BIC:               </th> <td>  -83.38</td>\n",
       "</tr>\n",
       "<tr>\n",
       "  <th>Df Model:</th>              <td>     2</td>      <th>                     </th>     <td> </td>   \n",
       "</tr>\n",
       "<tr>\n",
       "  <th>Covariance Type:</th>      <td>nonrobust</td>    <th>                     </th>     <td> </td>   \n",
       "</tr>\n",
       "</table>\n",
       "<table class=\"simpletable\">\n",
       "<tr>\n",
       "        <td></td>          <th>coef</th>     <th>std err</th>      <th>t</th>      <th>P>|t|</th>  <th>[0.025</th>    <th>0.975]</th>  \n",
       "</tr>\n",
       "<tr>\n",
       "  <th>FT%(College)</th> <td>    0.3655</td> <td>    0.094</td> <td>    3.907</td> <td> 0.000</td> <td>    0.177</td> <td>    0.553</td>\n",
       "</tr>\n",
       "<tr>\n",
       "  <th>2P%(College)</th> <td>    0.0733</td> <td>    0.126</td> <td>    0.580</td> <td> 0.564</td> <td>   -0.181</td> <td>    0.327</td>\n",
       "</tr>\n",
       "</table>\n",
       "<table class=\"simpletable\">\n",
       "<tr>\n",
       "  <th>Omnibus:</th>       <td>26.505</td> <th>  Durbin-Watson:     </th> <td>   1.746</td>\n",
       "</tr>\n",
       "<tr>\n",
       "  <th>Prob(Omnibus):</th> <td> 0.000</td> <th>  Jarque-Bera (JB):  </th> <td>  49.497</td>\n",
       "</tr>\n",
       "<tr>\n",
       "  <th>Skew:</th>          <td>-1.591</td> <th>  Prob(JB):          </th> <td>1.79e-11</td>\n",
       "</tr>\n",
       "<tr>\n",
       "  <th>Kurtosis:</th>      <td> 6.628</td> <th>  Cond. No.          </th> <td>    9.82</td>\n",
       "</tr>\n",
       "</table>"
      ],
      "text/plain": [
       "<class 'statsmodels.iolib.summary.Summary'>\n",
       "\"\"\"\n",
       "                            OLS Regression Results                            \n",
       "==============================================================================\n",
       "Dep. Variable:                    3P%   R-squared:                       0.902\n",
       "Model:                            OLS   Adj. R-squared:                  0.898\n",
       "Method:                 Least Squares   F-statistic:                     225.4\n",
       "Date:                Thu, 07 Jun 2018   Prob (F-statistic):           1.94e-25\n",
       "Time:                        08:44:39   Log-Likelihood:                 45.622\n",
       "No. Observations:                  51   AIC:                            -87.24\n",
       "Df Residuals:                      49   BIC:                            -83.38\n",
       "Df Model:                           2                                         \n",
       "Covariance Type:            nonrobust                                         \n",
       "================================================================================\n",
       "                   coef    std err          t      P>|t|      [0.025      0.975]\n",
       "--------------------------------------------------------------------------------\n",
       "FT%(College)     0.3655      0.094      3.907      0.000       0.177       0.553\n",
       "2P%(College)     0.0733      0.126      0.580      0.564      -0.181       0.327\n",
       "==============================================================================\n",
       "Omnibus:                       26.505   Durbin-Watson:                   1.746\n",
       "Prob(Omnibus):                  0.000   Jarque-Bera (JB):               49.497\n",
       "Skew:                          -1.591   Prob(JB):                     1.79e-11\n",
       "Kurtosis:                       6.628   Cond. No.                         9.82\n",
       "==============================================================================\n",
       "\n",
       "Warnings:\n",
       "[1] Standard Errors assume that the covariance matrix of the errors is correctly specified.\n",
       "\"\"\""
      ]
     },
     "execution_count": 40,
     "metadata": {},
     "output_type": "execute_result"
    }
   ],
   "source": [
    "X_mat_two = testdf[['FT%(College)', '2P%(College)']]\n",
    "y_mat_two = testdf[\"3P%\"]\n",
    "\n",
    "model_two = sm.OLS(y_mat_two, X_mat_two).fit()\n",
    "predictions_two = model_two.predict(X_mat_two)\n",
    "\n",
    "model_two.summary()"
   ]
  },
  {
   "cell_type": "markdown",
   "metadata": {},
   "source": [
    "## Results\n",
    "Interesting, for our sample `2P%` is not significant in predicting `3P%` shooting. Now let us plot these results. We get a larger standard error as well.\n",
    "\n",
    "Also, if we look at the `Adj R-sqaured` it actually decreases by 0.01, along with the fact that we get an insignificant coefficient estimate. Therefore, given our sample and model it appears that `2P%(College)` does not have a significant effect on `NBA 3PT%`"
   ]
  },
  {
   "cell_type": "code",
   "execution_count": 42,
   "metadata": {},
   "outputs": [
    {
     "data": {
      "text/plain": [
       "<matplotlib.axes._subplots.AxesSubplot at 0x2dc9283eb38>"
      ]
     },
     "execution_count": 42,
     "metadata": {},
     "output_type": "execute_result"
    },
    {
     "data": {
      "image/png": "[encoded data removed]",
      "text/plain": [
       "<matplotlib.figure.Figure at 0x2dc92850128>"
      ]
     },
     "metadata": {},
     "output_type": "display_data"
    }
   ],
   "source": [
    "%matplotlib inline\n",
    "sns.regplot(x = predictions_two, \n",
    "            y = '3P%', \n",
    "            data = testdf)"
   ]
  },
  {
   "cell_type": "markdown",
   "metadata": {
    "collapsed": true
   },
   "source": [
    "## Splitting sample into test and training\n",
    "\n",
    "In order to remove bias and for completeness we can perform the same analysis above by creating our model on the training set, then testing the model on the test set and then plotting the predictions against the actual data. We can use pandas to do that"
   ]
  },
  {
   "cell_type": "code",
   "execution_count": 48,
   "metadata": {
    "collapsed": true
   },
   "outputs": [],
   "source": [
    "# Creating our train set\n",
    "train = testdf.sample(frac = 0.8, random_state = 200)\n",
    "test = testdf.drop(train.index)"
   ]
  },
  {
   "cell_type": "code",
   "execution_count": 53,
   "metadata": {
    "collapsed": true
   },
   "outputs": [],
   "source": [
    "X_train = train['FT%(College)']\n",
    "y_train = train['3P%']\n",
    "\n",
    "model_three = sm.OLS(y_train, X_train).fit()"
   ]
  },
  {
   "cell_type": "code",
   "execution_count": 54,
   "metadata": {},
   "outputs": [
    {
     "data": {
      "text/html": [
       "<table class=\"simpletable\">\n",
       "<caption>OLS Regression Results</caption>\n",
       "<tr>\n",
       "  <th>Dep. Variable:</th>           <td>3P%</td>       <th>  R-squared:         </th> <td>   0.885</td>\n",
       "</tr>\n",
       "<tr>\n",
       "  <th>Model:</th>                   <td>OLS</td>       <th>  Adj. R-squared:    </th> <td>   0.882</td>\n",
       "</tr>\n",
       "<tr>\n",
       "  <th>Method:</th>             <td>Least Squares</td>  <th>  F-statistic:       </th> <td>   306.8</td>\n",
       "</tr>\n",
       "<tr>\n",
       "  <th>Date:</th>             <td>Thu, 07 Jun 2018</td> <th>  Prob (F-statistic):</th> <td>2.30e-20</td>\n",
       "</tr>\n",
       "<tr>\n",
       "  <th>Time:</th>                 <td>08:57:50</td>     <th>  Log-Likelihood:    </th> <td>  33.443</td>\n",
       "</tr>\n",
       "<tr>\n",
       "  <th>No. Observations:</th>      <td>    41</td>      <th>  AIC:               </th> <td>  -64.89</td>\n",
       "</tr>\n",
       "<tr>\n",
       "  <th>Df Residuals:</th>          <td>    40</td>      <th>  BIC:               </th> <td>  -63.17</td>\n",
       "</tr>\n",
       "<tr>\n",
       "  <th>Df Model:</th>              <td>     1</td>      <th>                     </th>     <td> </td>   \n",
       "</tr>\n",
       "<tr>\n",
       "  <th>Covariance Type:</th>      <td>nonrobust</td>    <th>                     </th>     <td> </td>   \n",
       "</tr>\n",
       "</table>\n",
       "<table class=\"simpletable\">\n",
       "<tr>\n",
       "        <td></td>          <th>coef</th>     <th>std err</th>      <th>t</th>      <th>P>|t|</th>  <th>[0.025</th>    <th>0.975]</th>  \n",
       "</tr>\n",
       "<tr>\n",
       "  <th>FT%(College)</th> <td>    0.4123</td> <td>    0.024</td> <td>   17.517</td> <td> 0.000</td> <td>    0.365</td> <td>    0.460</td>\n",
       "</tr>\n",
       "</table>\n",
       "<table class=\"simpletable\">\n",
       "<tr>\n",
       "  <th>Omnibus:</th>       <td>19.852</td> <th>  Durbin-Watson:     </th> <td>   1.626</td>\n",
       "</tr>\n",
       "<tr>\n",
       "  <th>Prob(Omnibus):</th> <td> 0.000</td> <th>  Jarque-Bera (JB):  </th> <td>  29.110</td>\n",
       "</tr>\n",
       "<tr>\n",
       "  <th>Skew:</th>          <td>-1.424</td> <th>  Prob(JB):          </th> <td>4.77e-07</td>\n",
       "</tr>\n",
       "<tr>\n",
       "  <th>Kurtosis:</th>      <td> 5.988</td> <th>  Cond. No.          </th> <td>    1.00</td>\n",
       "</tr>\n",
       "</table>"
      ],
      "text/plain": [
       "<class 'statsmodels.iolib.summary.Summary'>\n",
       "\"\"\"\n",
       "                            OLS Regression Results                            \n",
       "==============================================================================\n",
       "Dep. Variable:                    3P%   R-squared:                       0.885\n",
       "Model:                            OLS   Adj. R-squared:                  0.882\n",
       "Method:                 Least Squares   F-statistic:                     306.8\n",
       "Date:                Thu, 07 Jun 2018   Prob (F-statistic):           2.30e-20\n",
       "Time:                        08:57:50   Log-Likelihood:                 33.443\n",
       "No. Observations:                  41   AIC:                            -64.89\n",
       "Df Residuals:                      40   BIC:                            -63.17\n",
       "Df Model:                           1                                         \n",
       "Covariance Type:            nonrobust                                         \n",
       "================================================================================\n",
       "                   coef    std err          t      P>|t|      [0.025      0.975]\n",
       "--------------------------------------------------------------------------------\n",
       "FT%(College)     0.4123      0.024     17.517      0.000       0.365       0.460\n",
       "==============================================================================\n",
       "Omnibus:                       19.852   Durbin-Watson:                   1.626\n",
       "Prob(Omnibus):                  0.000   Jarque-Bera (JB):               29.110\n",
       "Skew:                          -1.424   Prob(JB):                     4.77e-07\n",
       "Kurtosis:                       5.988   Cond. No.                         1.00\n",
       "==============================================================================\n",
       "\n",
       "Warnings:\n",
       "[1] Standard Errors assume that the covariance matrix of the errors is correctly specified.\n",
       "\"\"\""
      ]
     },
     "execution_count": 54,
     "metadata": {},
     "output_type": "execute_result"
    }
   ],
   "source": [
    "model_three.summary()"
   ]
  },
  {
   "cell_type": "code",
   "execution_count": 55,
   "metadata": {
    "collapsed": true
   },
   "outputs": [],
   "source": [
    "predictions_test = model_three.predict(test['FT%(College)'])"
   ]
  },
  {
   "cell_type": "code",
   "execution_count": 63,
   "metadata": {},
   "outputs": [
    {
     "data": {
      "text/plain": [
       "<matplotlib.axes._subplots.AxesSubplot at 0x2dc93046390>"
      ]
     },
     "execution_count": 63,
     "metadata": {},
     "output_type": "execute_result"
    },
    {
     "data": {
      "image/png": "[encoded data removed]",
      "text/plain": [
       "<matplotlib.figure.Figure at 0x2dc9304a978>"
      ]
     },
     "metadata": {},
     "output_type": "display_data"
    }
   ],
   "source": [
    "%matplotlib inline\n",
    "sns.regplot(x = predictions_test, \n",
    "            y = '3P%', \n",
    "            data = test)"
   ]
  },
  {
   "cell_type": "markdown",
   "metadata": {},
   "source": [
    "## Creating the above plot in `matplotlib`\n",
    "\n",
    "Simple `matplotlib` plots. For the `plt.plot()` function, I passed `ro` in the `fmt` parameter. There are many other options here. Here is the full list of different [formats](https://matplotlib.org/api/_as_gen/matplotlib.pyplot.plot.html#matplotlib.pyplot.plot)"
   ]
  },
  {
   "cell_type": "code",
   "execution_count": 118,
   "metadata": {},
   "outputs": [
    {
     "data": {
      "image/png": "[encoded data removed]",
      "text/plain": [
       "<matplotlib.figure.Figure at 0x2dc934495c0>"
      ]
     },
     "metadata": {},
     "output_type": "display_data"
    }
   ],
   "source": [
    "# For the optional parameter `fmt` I went with `ro`. Red dots\n",
    "plt.plot(predictions_test, test['3P%'], 'ro')\n",
    "plt.xlabel('Predicted 3P%')\n",
    "plt.ylabel('3P% (NBA Career)')\n",
    "plt.show()"
   ]
  },
  {
   "cell_type": "code",
   "execution_count": 113,
   "metadata": {
    "collapsed": true
   },
   "outputs": [],
   "source": [
    "test['Predictions'] = predictions_test"
   ]
  },
  {
   "cell_type": "code",
   "execution_count": 117,
   "metadata": {},
   "outputs": [
    {
     "data": {
      "image/png": "[encoded data removed]",
      "text/plain": [
       "<matplotlib.figure.Figure at 0x2dc931f2400>"
      ]
     },
     "metadata": {},
     "output_type": "display_data"
    }
   ],
   "source": [
    "plt.scatter(predictions_test, test['3P%'])\n",
    "plt.xlabel('Predicted 3P%')\n",
    "plt.ylabel('3P% (NBA Career)')\n",
    "\n",
    "\n",
    "# Using a for loop to label the points\n",
    "for idx in range(len(test)):\n",
    "    plt.annotate(test['Player'].iloc[idx], xy = (test['Predictions'].iloc[idx], test['3P%'].iloc[idx]))\n",
    "\n",
    "plt.show()"
   ]
  },
  {
   "cell_type": "code",
   "execution_count": null,
   "metadata": {
    "collapsed": true
   },
   "outputs": [],
   "source": []
  }
 ],
 "metadata": {
  "kernelspec": {
   "display_name": "Python 3",
   "language": "python",
   "name": "python3"
  },
  "language_info": {
   "codemirror_mode": {
    "name": "ipython",
    "version": 3
   },
   "file_extension": ".py",
   "mimetype": "text/x-python",
   "name": "python",
   "nbconvert_exporter": "python",
   "pygments_lexer": "ipython3",
   "version": "3.6.1"
  }
 },
 "nbformat": 4,
 "nbformat_minor": 2
}

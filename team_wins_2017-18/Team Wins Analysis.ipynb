{
 "cells": [
  {
   "cell_type": "code",
   "execution_count": 2,
   "metadata": {},
   "outputs": [
    {
     "name": "stderr",
     "output_type": "stream",
     "text": [
      "C:\\Users\\hashi\\Anaconda3\\lib\\site-packages\\statsmodels\\compat\\pandas.py:56: FutureWarning: The pandas.core.datetools module is deprecated and will be removed in a future version. Please use the pandas.tseries module instead.\n",
      "  from pandas.core import datetools\n"
     ]
    }
   ],
   "source": [
    "import numpy as np\n",
    "import pandas as pd\n",
    "import matplotlib.pyplot as plt\n",
    "import seaborn as sns\n",
    "import statsmodels.api as sm\n",
    "from pandas import Series, DataFrame"
   ]
  },
  {
   "cell_type": "code",
   "execution_count": 3,
   "metadata": {
    "collapsed": true
   },
   "outputs": [],
   "source": [
    "# Upload the data \n",
    "opp_per100 = pd.read_table('opp_per100.txt', sep=',', header = 0)\n",
    "opp_pergame = pd.read_table('opp_pergame.txt', sep=',', header = 0)\n",
    "opp_shooting = pd.read_table('opp_shooting.txt', sep=',', header = 2)\n",
    "team_misc = pd.read_table('team_misc.txt', sep=',', header = 1)\n",
    "team_per100 = pd.read_table('team_per100.txt', sep=',', header = 0)\n",
    "team_pergame = pd.read_table('team_pergame.txt', sep=',', header = 0)\n",
    "team_shooting = pd.read_table('team_shooting.txt', sep=',', header = 2)"
   ]
  },
  {
   "cell_type": "markdown",
   "metadata": {},
   "source": [
    "## Data Collection\n",
    "\n",
    "I retrieved team and opponent NBA data from [Basketball-Reference](https://www.basketball-reference.com/leagues/NBA_2018.html). The data is **only for the 2018 NBA season**"
   ]
  },
  {
   "cell_type": "markdown",
   "metadata": {},
   "source": [
    "## Four-Factors \n",
    "\n",
    "To win basketball games, Dean Oliver identified the following statistics as being essential, he called these **\"Four Factors of Basketball Success\"**. The number in the parenthesis is the weight Dean Oliver gave each factor\n",
    "\n",
    "* Shooting (40%) measured using `eFG%`\n",
    "* Turnovers (25%) measured using `TOV%`\n",
    "* Rebounding (20%) measured using `ORB%` and `DRB%`\n",
    "* Freethrows (15%) measured using `FT/ FGA` (How much % of a teams total Field Goals come from Freethrows)\n",
    "\n",
    "Let us see how accurate we are in predicting the number of wins each team had in the 2017-18 season using these factors and weights\n",
    "\n",
    "\n",
    "## Methodology\n",
    "\n",
    "I intend on using Weighted Least Sqaures regression, assiging the weights that Dean Oliver originally proposed. Let us explore the datasets now"
   ]
  },
  {
   "cell_type": "markdown",
   "metadata": {},
   "source": [
    "### Plotting the Four Factors against Wins\n",
    "\n",
    "Let us plot each of the four factors agains wins and inspect the relationship between them"
   ]
  },
  {
   "cell_type": "code",
   "execution_count": 68,
   "metadata": {},
   "outputs": [
    {
     "data": {
      "image/png": "[encoded data removed]",
      "text/plain": [
       "<matplotlib.figure.Figure at 0x1590ce4e6d8>"
      ]
     },
     "metadata": {},
     "output_type": "display_data"
    }
   ],
   "source": [
    "f, (ax1, ax2, ax3, ax4) = plt.subplots(4, sharex = False, sharey = True)\n",
    "\n",
    "ax1.plot(team_misc['eFG%'], team_misc['W'], 'ro')\n",
    "ax1.set_title('Effective Field Goal % vs Wins')\n",
    "\n",
    "ax2.plot(team_misc['TOV%'], team_misc['W'], 'go')\n",
    "ax2.set_title('Turnover % vs Wins')\n",
    "\n",
    "ax3.plot(team_misc['ORB%'], team_misc['W'], 'bo')\n",
    "ax3.set_title('ORB% vs Wins')\n",
    "\n",
    "ax4.plot(team_misc['FT/FGA'], team_misc['W'], 'mo')\n",
    "ax4.set_title('FT Factor vs Wins')\n",
    "\n",
    "# Fine-tune figure; make subplots close to each other\n",
    "\n",
    "plt.show()"
   ]
  },
  {
   "cell_type": "markdown",
   "metadata": {},
   "source": [
    "## Results\n",
    "\n",
    "For all four factors, there definitely seems to be linear enough of a relationship with wins to warrant trying to create a regression model"
   ]
  },
  {
   "cell_type": "markdown",
   "metadata": {},
   "source": [
    "### Model\n",
    "\n",
    "* Our independent variables will be \n",
    "    * eFG% \n",
    "    * ORB%\n",
    "    * TOV%\n",
    "    * FT Factor (FT/ FGA)\n",
    "* Our dependent variables will be\n",
    "    * W (Wins) <br>\n",
    "\n",
    "### Scaling The Data\n",
    "We will have to scale the data as the website I collected it from does not have the four factors in the same units (%). We can do that manually as follows"
   ]
  },
  {
   "cell_type": "code",
   "execution_count": 71,
   "metadata": {},
   "outputs": [],
   "source": [
    "team_misc['ORB%'] = team_misc['ORB%']/100"
   ]
  },
  {
   "cell_type": "code",
   "execution_count": 73,
   "metadata": {
    "collapsed": true
   },
   "outputs": [],
   "source": [
    "team_misc['TOV%'] = team_misc['TOV%']/100"
   ]
  },
  {
   "cell_type": "code",
   "execution_count": 74,
   "metadata": {},
   "outputs": [],
   "source": [
    "from sklearn.cross_validation import train_test_split"
   ]
  },
  {
   "cell_type": "code",
   "execution_count": 75,
   "metadata": {},
   "outputs": [],
   "source": [
    "# Splitting data into training and test\n",
    "x_train, x_test, y_train, y_test = train_test_split(team_misc[['eFG%', 'ORB%', 'TOV%', 'FT/FGA']], team_misc['W'], test_size = 0.2, random_state = 0)"
   ]
  },
  {
   "cell_type": "code",
   "execution_count": 76,
   "metadata": {},
   "outputs": [],
   "source": [
    "model = sm.OLS(y_train, x_train).fit()\n",
    "predictions = model.predict(x_test)"
   ]
  },
  {
   "cell_type": "code",
   "execution_count": 77,
   "metadata": {},
   "outputs": [
    {
     "name": "stdout",
     "output_type": "stream",
     "text": [
      "                            OLS Regression Results                            \n",
      "==============================================================================\n",
      "Dep. Variable:                      W   R-squared:                       0.954\n",
      "Model:                            OLS   Adj. R-squared:                  0.945\n",
      "Method:                 Least Squares   F-statistic:                     104.2\n",
      "Date:                Fri, 08 Jun 2018   Prob (F-statistic):           4.28e-13\n",
      "Time:                        09:41:44   Log-Likelihood:                -87.475\n",
      "No. Observations:                  24   AIC:                             182.9\n",
      "Df Residuals:                      20   BIC:                             187.7\n",
      "Df Model:                           4                                         \n",
      "Covariance Type:            nonrobust                                         \n",
      "==============================================================================\n",
      "                 coef    std err          t      P>|t|      [0.025      0.975]\n",
      "------------------------------------------------------------------------------\n",
      "eFG%         162.9288     82.543      1.974      0.062      -9.253     335.111\n",
      "ORB%          66.8270    104.287      0.641      0.529    -150.712     284.366\n",
      "TOV%        -545.3351    246.194     -2.215      0.039   -1058.886     -31.784\n",
      "FT/FGA        64.5393    104.612      0.617      0.544    -153.678     282.757\n",
      "==============================================================================\n",
      "Omnibus:                        0.600   Durbin-Watson:                   2.325\n",
      "Prob(Omnibus):                  0.741   Jarque-Bera (JB):                0.630\n",
      "Skew:                          -0.060   Prob(JB):                        0.730\n",
      "Kurtosis:                       2.215   Cond. No.                         75.8\n",
      "==============================================================================\n",
      "\n",
      "Warnings:\n",
      "[1] Standard Errors assume that the covariance matrix of the errors is correctly specified.\n"
     ]
    }
   ],
   "source": [
    "print(model.summary())"
   ]
  },
  {
   "cell_type": "markdown",
   "metadata": {},
   "source": [
    "## Results\n",
    "\n",
    "We get statistically significant `p`-values form `TOV%` and at all levels of $\\alpha$ besides 0.01, and the result of our predictors we do not get statistically significant results\n",
    "\n",
    "### Interpretations\n",
    "\n",
    "From the coefficient estimates we see that a 1% increase is associated with a 162/100 increase in wins (1.62 wins per % increase in `eFG%`). Similar analysis can be made for `ORB%`, `TOV%`, `FT/FGA`.\n",
    "\n",
    "A 1% increase in `ORB%` is associated with a 66.82/100 increase in wins (0.6682 wins per % increase)\n",
    "\n",
    "A 1% increase in `TOV%` is associated with a -545.335/100 **decrease** in wins (-5.45 wins per % increase). This is a surprise and it contradicts Mr Oliver's weights that contribute to a teams win. Also, the coefficient estimate of this factor is statistically significant as well. According to our model with our small sample size `TOV%` seems to be the most important factor in effecting wins. \n",
    "\n",
    "Finally A 1% increase in `FT/FGA` is associated with a 0.64 win per % increase. The more often a team goes to the line and makes their FT, the likely it is it is going to contribute to a win. From our model, this is the lowest contributing factor to wins. \n",
    "\n",
    "### Weights \n",
    "From our model we see the most contributing factors to the number of games a team wins is as follows:\n",
    "\n",
    "* `TOV%`\n",
    "* `eFG%`\n",
    "* `ORB%`\n",
    "* `FT/FGA`"
   ]
  },
  {
   "cell_type": "code",
   "execution_count": 78,
   "metadata": {},
   "outputs": [
    {
     "name": "stdout",
     "output_type": "stream",
     "text": [
      "2     58.0\n",
      "28    27.0\n",
      "13    50.0\n",
      "10    46.0\n",
      "26    22.0\n",
      "24    25.0\n",
      "Name: W, dtype: float64 \n",
      " 2     42.433081\n",
      "28    36.614206\n",
      "13    47.653478\n",
      "10    44.208262\n",
      "26    33.059143\n",
      "24    35.872460\n",
      "dtype: float64\n"
     ]
    }
   ],
   "source": [
    "print(y_test, '\\n', predictions)"
   ]
  },
  {
   "cell_type": "markdown",
   "metadata": {},
   "source": [
    "## Results\n",
    "\n",
    "As we compare the predictons of our wins to the actual wins total of the teams, we see our model is several wins off. We can calculate the average amount of wins our predictions was wrong by as follows.\n",
    "\n",
    "### Reasons\n",
    "\n",
    "* Extremely small sample size. Our training set was 24 teams and our test was 6"
   ]
  },
  {
   "cell_type": "code",
   "execution_count": 88,
   "metadata": {},
   "outputs": [
    {
     "data": {
      "text/plain": [
       "8.5418312959138643"
      ]
     },
     "execution_count": 88,
     "metadata": {},
     "output_type": "execute_result"
    }
   ],
   "source": [
    "# Average number of wins our model was wrong by\n",
    "sum(abs(y_test - predictions))/6"
   ]
  },
  {
   "cell_type": "code",
   "execution_count": 89,
   "metadata": {
    "collapsed": true
   },
   "outputs": [],
   "source": [
    "from IPython.display import display, Math, Latex"
   ]
  },
  {
   "cell_type": "markdown",
   "metadata": {},
   "source": [
    "## Creating a `log-linear` model\n",
    "\n",
    "Let us create a `log-linear` model, which mathematically looks as follows\n",
    "\n",
    "<center> $$ log(\\bf{y})  = {\\bf X\\beta} + {\\bf \\epsilon} $$</center>"
   ]
  },
  {
   "cell_type": "code",
   "execution_count": null,
   "metadata": {
    "collapsed": true
   },
   "outputs": [],
   "source": []
  }
 ],
 "metadata": {
  "kernelspec": {
   "display_name": "Python 3",
   "language": "python",
   "name": "python3"
  },
  "language_info": {
   "codemirror_mode": {
    "name": "ipython",
    "version": 3
   },
   "file_extension": ".py",
   "mimetype": "text/x-python",
   "name": "python",
   "nbconvert_exporter": "python",
   "pygments_lexer": "ipython3",
   "version": "3.6.1"
  }
 },
 "nbformat": 4,
 "nbformat_minor": 2
}

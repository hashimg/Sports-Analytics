{
 "cells": [
  {
   "cell_type": "code",
   "execution_count": 1,
   "metadata": {},
   "outputs": [
    {
     "name": "stderr",
     "output_type": "stream",
     "text": [
      "C:\\Users\\hashi\\Anaconda3\\lib\\site-packages\\statsmodels\\compat\\pandas.py:56: FutureWarning: The pandas.core.datetools module is deprecated and will be removed in a future version. Please use the pandas.tseries module instead.\n",
      "  from pandas.core import datetools\n"
     ]
    }
   ],
   "source": [
    "import numpy as np\n",
    "import pandas as pd\n",
    "import matplotlib.pyplot as plt\n",
    "import seaborn as sns\n",
    "import statsmodels.api as sm\n",
    "from pandas import Series, DataFrame"
   ]
  },
  {
   "cell_type": "code",
   "execution_count": 31,
   "metadata": {},
   "outputs": [],
   "source": [
    "# Upload the data \n",
    "opp_per100 = pd.read_table('opp_per100.txt', sep=',', header = 0)\n",
    "opp_pergame = pd.read_table('opp_pergame.txt', sep=',', header = 0)\n",
    "opp_shooting = pd.read_table('opp_shooting.txt', sep=',', header = 2)\n",
    "team_misc = pd.read_table('team_misc.txt', sep=',', header = 1)\n",
    "team_per100 = pd.read_table('team_per100.txt', sep=',', header = 0)\n",
    "team_pergame = pd.read_table('team_pergame.txt', sep=',', header = 0)\n",
    "team_shooting = pd.read_table('team_shooting.txt', sep=',', header = 2)"
   ]
  },
  {
   "cell_type": "markdown",
   "metadata": {},
   "source": [
    "## Four-Factors \n",
    "\n",
    "To win basketball games, Dean Oliver identified the following statistics as being essential, he called these **\"Four Factors of Basketball Success\"**. The number in the parenthesis is the weight Dean Oliver gave each factor\n",
    "\n",
    "* Shooting (40%) measured using `eFG%`\n",
    "* Turnovers (25%) measured using `TOV%`\n",
    "* Rebounding (20%) measured using `ORB%` and `DRB%`\n",
    "* Freethrows (15%) measured using `FT%`\n",
    "\n",
    "Let us see how accurate we are in predicting the number of wins each team had in the 2017-18 season using these factors and weights\n",
    "\n",
    "\n",
    "## Methodology\n",
    "\n",
    "I intend on using Weighted Least Sqaures regression, assiging the weights that Dean Oliver originally proposed"
   ]
  },
  {
   "cell_type": "code",
   "execution_count": null,
   "metadata": {
    "collapsed": true
   },
   "outputs": [],
   "source": []
  }
 ],
 "metadata": {
  "kernelspec": {
   "display_name": "Python 3",
   "language": "python",
   "name": "python3"
  },
  "language_info": {
   "codemirror_mode": {
    "name": "ipython",
    "version": 3
   },
   "file_extension": ".py",
   "mimetype": "text/x-python",
   "name": "python",
   "nbconvert_exporter": "python",
   "pygments_lexer": "ipython3",
   "version": "3.6.1"
  }
 },
 "nbformat": 4,
 "nbformat_minor": 2
}

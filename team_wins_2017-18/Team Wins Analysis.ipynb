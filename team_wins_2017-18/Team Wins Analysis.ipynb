{
 "cells": [
  {
   "cell_type": "code",
   "execution_count": 2,
   "metadata": {},
   "outputs": [
    {
     "name": "stderr",
     "output_type": "stream",
     "text": [
      "C:\\Users\\hashi\\Anaconda3\\lib\\site-packages\\statsmodels\\compat\\pandas.py:56: FutureWarning: The pandas.core.datetools module is deprecated and will be removed in a future version. Please use the pandas.tseries module instead.\n",
      "  from pandas.core import datetools\n"
     ]
    }
   ],
   "source": [
    "import numpy as np\n",
    "import pandas as pd\n",
    "import matplotlib.pyplot as plt\n",
    "import seaborn as sns\n",
    "import statsmodels.api as sm\n",
    "from pandas import Series, DataFrame"
   ]
  },
  {
   "cell_type": "code",
   "execution_count": 3,
   "metadata": {
    "collapsed": true
   },
   "outputs": [],
   "source": [
    "# Upload the data \n",
    "opp_per100 = pd.read_table('opp_per100.txt', sep=',', header = 0)\n",
    "opp_pergame = pd.read_table('opp_pergame.txt', sep=',', header = 0)\n",
    "opp_shooting = pd.read_table('opp_shooting.txt', sep=',', header = 2)\n",
    "team_misc = pd.read_table('team_misc.txt', sep=',', header = 1)\n",
    "team_per100 = pd.read_table('team_per100.txt', sep=',', header = 0)\n",
    "team_pergame = pd.read_table('team_pergame.txt', sep=',', header = 0)\n",
    "team_shooting = pd.read_table('team_shooting.txt', sep=',', header = 2)"
   ]
  },
  {
   "cell_type": "markdown",
   "metadata": {},
   "source": [
    "## Four-Factors \n",
    "\n",
    "To win basketball games, Dean Oliver identified the following statistics as being essential, he called these **\"Four Factors of Basketball Success\"**. The number in the parenthesis is the weight Dean Oliver gave each factor\n",
    "\n",
    "* Shooting (40%) measured using `eFG%`\n",
    "* Turnovers (25%) measured using `TOV%`\n",
    "* Rebounding (20%) measured using `ORB%` and `DRB%`\n",
    "* Freethrows (15%) measured using `FT%`\n",
    "\n",
    "Let us see how accurate we are in predicting the number of wins each team had in the 2017-18 season using these factors and weights\n",
    "\n",
    "\n",
    "## Methodology\n",
    "\n",
    "I intend on using Weighted Least Sqaures regression, assiging the weights that Dean Oliver originally proposed. Let us explore the datasets now"
   ]
  },
  {
   "cell_type": "markdown",
   "metadata": {},
   "source": [
    "### Plotting the Four Factors against Wins\n",
    "\n",
    "Let us plot each of the four factors agains wins and inspect the relationship between them"
   ]
  },
  {
   "cell_type": "code",
   "execution_count": 35,
   "metadata": {},
   "outputs": [
    {
     "data": {
      "image/png": "[encoded data removed]",
      "text/plain": [
       "<matplotlib.figure.Figure at 0x1590d3e6400>"
      ]
     },
     "metadata": {},
     "output_type": "display_data"
    }
   ],
   "source": [
    "f, (ax1, ax2, ax3, ax4) = plt.subplots(4, sharex = False, sharey = True)\n",
    "\n",
    "ax1.plot(team_misc['eFG%'], team_misc['W'], 'ro')\n",
    "ax1.set_title('Effective Field Goal % vs Wins')\n",
    "\n",
    "ax2.plot(team_misc['TOV%'], team_misc['W'], 'go')\n",
    "ax2.set_title('Turnover % vs Wins')\n",
    "\n",
    "ax3.plot(team_misc['ORB%'], team_misc['W'], 'bo')\n",
    "ax3.set_title('ORB% vs Wins')\n",
    "\n",
    "ax4.plot(team_misc['FT/FGA'], team_misc['W'], 'mo')\n",
    "ax4.set_title('FT% vs Wins')\n",
    "\n",
    "# Fine-tune figure; make subplots close to each other\n",
    "\n",
    "plt.show()"
   ]
  },
  {
   "cell_type": "markdown",
   "metadata": {},
   "source": [
    "## Results\n",
    "\n",
    "For all four factors, there definitely seems to be linear enough of a relationship with wins to warrant trying to create a regression model"
   ]
  },
  {
   "cell_type": "markdown",
   "metadata": {},
   "source": [
    "### Model\n",
    "\n",
    "* Our independent variables will be \n",
    "    * eFG% \n",
    "    * ORB%\n",
    "    * TOV%\n",
    "    * FT%\n",
    "* Our dependent variables will be\n",
    "    * W (Wins) <br>\n",
    "\n",
    "\n",
    "We will have to scale the data as the website I collected it from does not have the four factors in the same units"
   ]
  },
  {
   "cell_type": "code",
   "execution_count": 40,
   "metadata": {
    "collapsed": true
   },
   "outputs": [],
   "source": [
    "X_mat = team_misc[['eFG%', 'TOV%', 'ORB%', 'FT/FGA']]\n",
    "y_mat = team_misc[['W']]"
   ]
  },
  {
   "cell_type": "code",
   "execution_count": 45,
   "metadata": {},
   "outputs": [],
   "source": [
    "model = sm.OLS(y_mat, X_mat).fit()\n",
    "predictions = model.predict(X_mat)"
   ]
  },
  {
   "cell_type": "code",
   "execution_count": 46,
   "metadata": {},
   "outputs": [
    {
     "name": "stdout",
     "output_type": "stream",
     "text": [
      "                            OLS Regression Results                            \n",
      "==============================================================================\n",
      "Dep. Variable:                      W   R-squared:                       0.953\n",
      "Model:                            OLS   Adj. R-squared:                  0.945\n",
      "Method:                 Least Squares   F-statistic:                     130.7\n",
      "Date:                Fri, 08 Jun 2018   Prob (F-statistic):           8.12e-17\n",
      "Time:                        09:16:59   Log-Likelihood:                -109.47\n",
      "No. Observations:                  30   AIC:                             226.9\n",
      "Df Residuals:                      26   BIC:                             232.5\n",
      "Df Model:                           4                                         \n",
      "Covariance Type:            nonrobust                                         \n",
      "==============================================================================\n",
      "                 coef    std err          t      P>|t|      [0.025      0.975]\n",
      "------------------------------------------------------------------------------\n",
      "eFG%         206.9963     71.721      2.886      0.008      59.572     354.420\n",
      "TOV%          -6.7323      2.205     -3.054      0.005     -11.264      -2.200\n",
      "ORB%           0.4925      0.890      0.553      0.585      -1.337       2.322\n",
      "FT/FGA        50.2472     97.580      0.515      0.611    -150.332     250.826\n",
      "==============================================================================\n",
      "Omnibus:                        0.112   Durbin-Watson:                   0.925\n",
      "Prob(Omnibus):                  0.946   Jarque-Bera (JB):                0.333\n",
      "Skew:                           0.005   Prob(JB):                        0.847\n",
      "Kurtosis:                       2.484   Cond. No.                     1.54e+03\n",
      "==============================================================================\n",
      "\n",
      "Warnings:\n",
      "[1] Standard Errors assume that the covariance matrix of the errors is correctly specified.\n",
      "[2] The condition number is large, 1.54e+03. This might indicate that there are\n",
      "strong multicollinearity or other numerical problems.\n"
     ]
    }
   ],
   "source": [
    "print(model.summary())"
   ]
  },
  {
   "cell_type": "code",
   "execution_count": null,
   "metadata": {
    "collapsed": true
   },
   "outputs": [],
   "source": []
  }
 ],
 "metadata": {
  "kernelspec": {
   "display_name": "Python 3",
   "language": "python",
   "name": "python3"
  },
  "language_info": {
   "codemirror_mode": {
    "name": "ipython",
    "version": 3
   },
   "file_extension": ".py",
   "mimetype": "text/x-python",
   "name": "python",
   "nbconvert_exporter": "python",
   "pygments_lexer": "ipython3",
   "version": "3.6.1"
  }
 },
 "nbformat": 4,
 "nbformat_minor": 2
}
